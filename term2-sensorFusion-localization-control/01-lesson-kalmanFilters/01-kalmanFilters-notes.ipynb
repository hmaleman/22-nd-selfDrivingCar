{
 "cells": [
  {
   "cell_type": "markdown",
   "metadata": {},
   "source": [
    "# Kalman Filters\n",
    "- Course: Self Driving Car Nanodegree\n",
    "- Lesson: Kalman filters\n",
    "- Topic: Tracking"
   ]
  },
  {
   "cell_type": "markdown",
   "metadata": {},
   "source": [
    "- Characteristics:\n",
    "  - Uni-modal (single peak - gaussian)\n",
    "  - Continuous"
   ]
  },
  {
   "cell_type": "code",
   "execution_count": 14,
   "metadata": {
    "collapsed": false
   },
   "outputs": [
    {
     "name": "stdout",
     "output_type": "stream",
     "text": [
      "0.19947114020071635\n"
     ]
    }
   ],
   "source": [
    "from math import *\n",
    "\n",
    "def f(mu, sigma2, x):\n",
    "    return 1/(sqrt(2.*pi*sigma2))*exp(-0.5*((x-mu)**2)/sigma2)\n",
    "\n",
    "print (f(10., 4., 10.))"
   ]
  },
  {
   "cell_type": "markdown",
   "metadata": {},
   "source": [
    "A Kalman Filter involve 2 cycles:\n",
    "- **Measurement update**: Bayes Rule, or product\n",
    "- **Motion update or Prediction**: Total probability, or addition "
   ]
  },
  {
   "cell_type": "markdown",
   "metadata": {},
   "source": [
    "At the **Measurement update** step, we have a multiplication from the current probability gaussian from the objects position and the new probability gaussian with the new position measurement. The formula for the output gaussian is given in the code snippet below.\n",
    "\n",
    "- The new mean is located between the two means: current position gaussian, new position measurement gaussian\n",
    "- The new covariance is smaller then both covariances: current position gaussian, new position measurement gaussian"
   ]
  },
  {
   "cell_type": "code",
   "execution_count": 3,
   "metadata": {
    "collapsed": false
   },
   "outputs": [
    {
     "name": "stdout",
     "output_type": "stream",
     "text": [
      "[12.4, 1.6]\n"
     ]
    }
   ],
   "source": [
    "# Write a program to update your mean and variance\n",
    "# when given the mean and variance of your belief\n",
    "# and the mean and variance of your measurement.\n",
    "# This program will update the parameters of your\n",
    "# belief function.\n",
    "\n",
    "def update(mean1, var1, mean2, var2):\n",
    "    new_mean = 1/(var1+var2) * (var2*mean1 + var1*mean2)\n",
    "    new_var = 1/(1/var1 + 1/var2)\n",
    "    return [new_mean, new_var]\n",
    "\n",
    "# Current measurement: u = 10, var^2 = 8\n",
    "# New measurement: u = 13, var^2 = 2\n",
    "print(update(10.,8.,13., 2.))\n",
    "\n",
    "# Measurement update: \n",
    "# u = 12.4 (in between the previous gaussians)\n",
    "# var^2 = 1.6 (smaller covariance than previous covariances = more precise)"
   ]
  },
  {
   "cell_type": "markdown",
   "metadata": {},
   "source": [
    "The **Motion update or Prediction** step is much simpler, since it uses total probability to predict the next mean and covariance based on the current probability gaussian from the object position and the new probability gaussian with the new measurement from the new object position."
   ]
  },
  {
   "cell_type": "code",
   "execution_count": 5,
   "metadata": {
    "collapsed": false
   },
   "outputs": [
    {
     "name": "stdout",
     "output_type": "stream",
     "text": [
      "[22.0, 8.0]\n"
     ]
    }
   ],
   "source": [
    "# Write a program that will predict your new mean\n",
    "# and variance given the mean and variance of your \n",
    "# prior belief and the mean and variance of your \n",
    "# motion. \n",
    "\n",
    "def update(mean1, var1, mean2, var2):\n",
    "    new_mean = (var2 * mean1 + var1 * mean2) / (var1 + var2)\n",
    "    new_var = 1/(1/var1 + 1/var2)\n",
    "    return [new_mean, new_var]\n",
    "\n",
    "def predict(mean1, var1, mean2, var2):\n",
    "    new_mean = mean1 + mean2\n",
    "    new_var = var1 + var2\n",
    "    return [new_mean, new_var]\n",
    "\n",
    "print(predict(10., 4., 12., 4.))"
   ]
  },
  {
   "cell_type": "code",
   "execution_count": 17,
   "metadata": {
    "collapsed": false
   },
   "outputs": [
    {
     "name": "stdout",
     "output_type": "stream",
     "text": [
      "Update : mu= 5.00 - sig= 4.00\n",
      "Predict: mu= 6.00 - sig= 6.00\n",
      "Update : mu= 6.00 - sig= 2.40\n",
      "Predict: mu= 7.00 - sig= 4.40\n",
      "Update : mu= 7.00 - sig= 2.10\n",
      "Predict: mu= 9.00 - sig= 4.10\n",
      "Update : mu= 9.00 - sig= 2.02\n",
      "Predict: mu= 10.00 - sig= 4.02\n",
      "Update : mu= 10.00 - sig= 2.01\n",
      "Predict: mu= 11.00 - sig= 4.01\n",
      "[10.999906177177365, 4.005861580844194]\n"
     ]
    }
   ],
   "source": [
    "# Write a program that will iteratively update and\n",
    "# predict based on the location measurements \n",
    "# and inferred motions shown below. \n",
    "\n",
    "def update(mean1, var1, mean2, var2):\n",
    "    new_mean = float(var2 * mean1 + var1 * mean2) / (var1 + var2)\n",
    "    new_var = 1./(1./var1 + 1./var2)\n",
    "    return [new_mean, new_var]\n",
    "\n",
    "def predict(mean1, var1, mean2, var2):\n",
    "    new_mean = mean1 + mean2\n",
    "    new_var = var1 + var2\n",
    "    return [new_mean, new_var]\n",
    "\n",
    "measurements = [5., 6., 7., 9., 10.]\n",
    "motion = [1., 1., 2., 1., 1.]\n",
    "measurement_sig = 4.\n",
    "motion_sig = 2.\n",
    "mu = 0.\n",
    "sig = 10000.\n",
    "\n",
    "for i in range(len(measurements)):\n",
    "    mu, sig = update(mu, sig, measurements[i], measurement_sig)\n",
    "    print(\"Update : mu= {:.2f} - sig= {:.2f}\".format(mu, sig))\n",
    "    mu, sig = predict(mu, sig, motion[i], motion_sig)\n",
    "    print(\"Predict: mu= {:.2f} - sig= {:.2f}\".format(mu, sig))\n",
    "\n",
    "print ([mu, sig])"
   ]
  }
 ],
 "metadata": {
  "anaconda-cloud": {},
  "kernelspec": {
   "display_name": "Python [default]",
   "language": "python",
   "name": "python3"
  },
  "language_info": {
   "codemirror_mode": {
    "name": "ipython",
    "version": 3
   },
   "file_extension": ".py",
   "mimetype": "text/x-python",
   "name": "python",
   "nbconvert_exporter": "python",
   "pygments_lexer": "ipython3",
   "version": "3.5.2"
  }
 },
 "nbformat": 4,
 "nbformat_minor": 2
}
