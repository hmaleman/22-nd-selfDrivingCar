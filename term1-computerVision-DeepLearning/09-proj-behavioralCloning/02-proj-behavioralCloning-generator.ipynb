{
 "cells": [
  {
   "cell_type": "markdown",
   "metadata": {},
   "source": [
    "# Project: Behavioral Cloning\n",
    "The goal of this project is to use colected simulation data to generate a model which would in turn generate steering angle data to be used on the simulator, based on image input.\n",
    "\n",
    "The simulation dataset used for the following model was the one provided by Udacity at the following [link](https://d17h27t6h515a5.cloudfront.net/topher/2016/December/584f6edd_data/data.zip)."
   ]
  },
  {
   "cell_type": "markdown",
   "metadata": {},
   "source": [
    "### Rubric: Required Files\n",
    " - **Criteria**: Are all required files submitted?\n",
    " - **Acceptance criteria**: The submission includes a model.py file, drive.py, model.h5 a writeup report and video.mp4.\n",
    " - **Output**: **PASS** \n",
    "\n",
    "> **HMA**: Please find the required files at the same directory in this repository.\n",
    "- model.py (This file)\n",
    "- [model.h5](https://github.com/hmaleman/course-udacity-selfDrivingCarND/blob/master/term1-computerVision-DeepLearning/09-proj-behavioralCloning/model.h5)\n",
    "- [drive.py](https://github.com/hmaleman/course-udacity-selfDrivingCarND/blob/master/term1-computerVision-DeepLearning/09-proj-behavioralCloning/drive.py)\n",
    "- [video.mp4](https://github.com/hmaleman/course-udacity-selfDrivingCarND/blob/master/term1-computerVision-DeepLearning/09-proj-behavioralCloning/video.mp4)\n"
   ]
  },
  {
   "cell_type": "markdown",
   "metadata": {},
   "source": [
    "## Download data\n",
    "In order to work locally and remotly, the simulation dataset download and unpack process was automated as presented below. "
   ]
  },
  {
   "cell_type": "code",
   "execution_count": 1,
   "metadata": {
    "collapsed": false
   },
   "outputs": [
    {
     "name": "stdout",
     "output_type": "stream",
     "text": [
      "Dataset ready.\n"
     ]
    }
   ],
   "source": [
    "# HMA: Data download \n",
    "# Check / Download / Unzip - Dataset\n",
    "\n",
    "import os\n",
    "simulationData_DIR = './00-proj-simulationDataUdacity'\n",
    "simulationData_ZIP = './00-proj-simulationDataUdacity.zip'\n",
    "\n",
    "if not(os.path.isdir(simulationData_DIR)):\n",
    "    if not(os.path.exists(simulationData_ZIP)):\n",
    "        # Download Dataset zipfile if DIR and ZIP file do not exist\n",
    "        import urllib.request\n",
    "        url = 'https://d17h27t6h515a5.cloudfront.net/topher/2016/December/584f6edd_data/data.zip'\n",
    "        print(\"Downloading Simulation Data...\")\n",
    "        urllib.request.urlretrieve(url, simulationData_ZIP)\n",
    "    \n",
    "    # Unzip Dataset zipfile\n",
    "    if (os.path.exists(simulationData_ZIP)):\n",
    "        print(\"Unzipping Simulation Data...\")\n",
    "        os.makedirs(simulationData_DIR)\n",
    "        import zipfile\n",
    "        zip_ref = zipfile.ZipFile(simulationData_ZIP, 'r')\n",
    "        zip_ref.extractall(simulationData_DIR)\n",
    "        zip_ref.close()\n",
    "print(\"Dataset ready.\")"
   ]
  },
  {
   "cell_type": "markdown",
   "metadata": {},
   "source": [
    "### Rubric: Architecture and Training Documentation\n",
    " - **Criteria**: Is the creation of the training dataset and training process documented?\n",
    " - **Acceptance criteria**: The README describes how the model was trained and what the characteristics of the dataset are. Information such as how the dataset was generated and examples of images from the dataset must be included.\n",
    " - **Output**: **PASS** \n",
    "\n",
    "> **HMA**: The dataset used was only the one provided by Udacity. It contained two recorded laps of the car running on the opposide sense of the Track in which the model would later be tested. Image analysis were done at the [version 1](https://github.com/hmaleman/course-udacity-selfDrivingCarND/blob/master/term1-computerVision-DeepLearning/09-proj-behavioralCloning/01-proj-behavioralCloning.ipynb), but since the use of Generator, images were no longer extracted. "
   ]
  },
  {
   "cell_type": "markdown",
   "metadata": {},
   "source": [
    "## Import data\n",
    "The step \"Import data\" initially loaded all simulation images which were used at the Training step. However, not only as required by the project rubrics, but also necessary to allow bigger training sets, this step only prepares the internal variables which were then later used by the Generator to import the images.\n",
    "\n",
    "The simulation dataset was composed by a driving_log csv file and a directory with recorded images.\n",
    "\n",
    "A drive log entry contained the paths for the 3 images (center, left and right mounted cameras) and the associated steering angle, throtle and brake values when the image was captured. \n",
    "\n",
    "The code below simply parses the driving log for later processing."
   ]
  },
  {
   "cell_type": "code",
   "execution_count": 2,
   "metadata": {
    "collapsed": false
   },
   "outputs": [],
   "source": [
    "# Read log file\n",
    "# [0] center image\n",
    "# [1] left image\n",
    "# [2] right image\n",
    "# [3] steering angle\n",
    "\n",
    "import csv\n",
    "\n",
    "log_DIR = os.path.join(simulationData_DIR, 'data')\n",
    "log_FILE = 'driving_log.csv'\n",
    "driving_log = []\n",
    "with open(os.path.join(log_DIR, log_FILE)) as csvfile:\n",
    "    reader = csv.reader(csvfile, escapechar=' ')\n",
    "    for line in reader:\n",
    "        driving_log.append(line)\n",
    "\n",
    "driving_log = driving_log[1:] # crop CSV titles\n",
    "pass"
   ]
  },
  {
   "cell_type": "markdown",
   "metadata": {},
   "source": [
    "## Data augmentation\n",
    "As mentioned above, the image importing is only done at the Generator, in this step only a preparation for data augmentation was done.\n",
    "\n",
    "For the Udacity simulation dataset, a few techniques were used to augment the data:\n",
    "- Use captured images from the left camera with steering angle minus a delta parameter as example situation to return to the lane center\n",
    "- Use captured images from the right camera with steering angle plux a delta parameter as example image to return to the lane center\n",
    "- Flip the center, right and left camera images and the associated steering angles.\n",
    "\n",
    "After a few tests (0.10, 0.20 and 0.30), the model behaved better with a delta angle correction of 0.25"
   ]
  },
  {
   "cell_type": "code",
   "execution_count": 3,
   "metadata": {
    "collapsed": false
   },
   "outputs": [],
   "source": [
    "import cv2\n",
    "\n",
    "img_DIR = log_DIR\n",
    "centerCamImageIndex = 0\n",
    "leftCamImageIndex   = 1\n",
    "rightCamImageIndex  = 2\n",
    "steeringAngleIndex  = 3\n",
    "\n",
    "logSet = []\n",
    "deltaAngle = 0.25\n",
    "for log_entry in driving_log:\n",
    "    img_FILE = log_entry[centerCamImageIndex]\n",
    "    angle = float(log_entry[steeringAngleIndex])\n",
    "    logSet.append([img_FILE, angle, False])\n",
    "    logSet.append([img_FILE, -angle, True])\n",
    "    \n",
    "    img_FILE = log_entry[leftCamImageIndex]\n",
    "    angle = float(log_entry[steeringAngleIndex]) + deltaAngle\n",
    "    logSet.append([img_FILE, angle, False])\n",
    "    logSet.append([img_FILE, -angle, True])\n",
    "    \n",
    "    img_FILE = log_entry[rightCamImageIndex]\n",
    "    angle = float(log_entry[steeringAngleIndex]) - deltaAngle\n",
    "    logSet.append([img_FILE, angle, False])\n",
    "    logSet.append([img_FILE, -angle, True])"
   ]
  },
  {
   "cell_type": "markdown",
   "metadata": {},
   "source": [
    "### Rubric: Quality of Code\n",
    " - **Criteria**: Is the code usable and readable?\n",
    " - **Acceptance criteria**: The code in model.py uses a Python generator, if needed, to generate data for training rather than storing the training data in memory. The model.py code is clearly organized and comments are included where needed.\n",
    " - **Output**: **PASS** \n",
    "\n",
    "> **HMA**: A Generator was used for this project, since the amount of input data exceeded the available memory. Please find below futher details about the Generator."
   ]
  },
  {
   "cell_type": "markdown",
   "metadata": {},
   "source": [
    "## Generator\n",
    "The section below presents the data Generator. It uses the previously loaded information from images paths and steering angles to load the images and provide it the to training routine on-the-fly. \n",
    "\n",
    "After the use of Data Augmentation, it was required to introduce this technique, and the [version 1](https://github.com/hmaleman/course-udacity-selfDrivingCarND/blob/master/term1-computerVision-DeepLearning/09-proj-behavioralCloning/01-proj-behavioralCloning.ipynb) was stopped. The first datasets using only a first step of Data Augmentation with the side cameras, had the AWS instance operating with over 53%. Adding the flipped images exceeded the available memor  "
   ]
  },
  {
   "cell_type": "code",
   "execution_count": 4,
   "metadata": {
    "collapsed": false
   },
   "outputs": [],
   "source": [
    "import sklearn\n",
    "import cv2\n",
    "import numpy as np\n",
    "\n",
    "imgIndex = 0\n",
    "angleIndex = 1\n",
    "flipIndex = 2\n",
    "\n",
    "def generator(samples, batch_size=32):\n",
    "    while 1:\n",
    "        for offset in range(0, len(samples), batch_size):\n",
    "            batch_samples = samples[offset:offset + batch_size]\n",
    "            imgSet = []   # Placeholder for the input images\n",
    "            angleSet = [] # Placeholder for the associated label (or value, in this regression problem)\n",
    "            for log_entry in batch_samples:\n",
    "                img_FILE = log_entry[imgIndex]\n",
    "                img = cv2.imread(os.path.join(img_DIR, img_FILE))\n",
    "                if log_entry[flipIndex] == True:\n",
    "                    img = cv2.flip(img, 1)\n",
    "                imgSet.append(img)\n",
    "                angleSet.append(log_entry[angleIndex])\n",
    "\n",
    "            X_train = np.array(imgSet)\n",
    "            y_train = np.array(angleSet)\n",
    "            yield sklearn.utils.shuffle(X_train, y_train)\n"
   ]
  },
  {
   "cell_type": "markdown",
   "metadata": {},
   "source": [
    "In order to avoid interference due to image sequence, the loaded dataset is shuffled."
   ]
  },
  {
   "cell_type": "code",
   "execution_count": null,
   "metadata": {
    "collapsed": false
   },
   "outputs": [],
   "source": [
    "sklearn.utils.shuffle(logSet)\n",
    "pass"
   ]
  },
  {
   "cell_type": "markdown",
   "metadata": {},
   "source": [
    "### Rubric: Model Architecture and Training Strategy\n",
    " - **Criteria**: Has an attempt been made to reduce overfitting of the model?\n",
    " - **Acceptance criteria**: Train/validation/test splits have been used, and the model uses dropout layers or other methods to reduce overfitting.\n",
    " - **Output**: **PASS** \n",
    "\n",
    "> **HMA**: For details about the data split, please check the section below. Overfitting was monitored through the check of validation_loss at the training output. Furthermore the used training set from Udacity was recorded running on the other sense that the generated model would run on the track. \n",
    "\n",
    ">This situation already help to prevent overfit, since the model would run on a \"different\" track than the one trained. In other words, a successful autonomous run indicates a good model generalization."
   ]
  },
  {
   "cell_type": "markdown",
   "metadata": {},
   "source": [
    "## Data split - Training and Validation sets\n",
    "The loaded simulation dataset is split in Training and Validation sets with a ratio of 80/20."
   ]
  },
  {
   "cell_type": "code",
   "execution_count": 6,
   "metadata": {
    "collapsed": true
   },
   "outputs": [],
   "source": [
    "from sklearn.model_selection import train_test_split\n",
    "\n",
    "logSet_train, logSet_valid = sklearn.model_selection.train_test_split(logSet, test_size=0.2)"
   ]
  },
  {
   "cell_type": "markdown",
   "metadata": {},
   "source": [
    "With the Training and Validation tests available, it's possible to define a Generator object for each of them."
   ]
  },
  {
   "cell_type": "code",
   "execution_count": 7,
   "metadata": {
    "collapsed": true
   },
   "outputs": [],
   "source": [
    "train_generator = generator(logSet_train, batch_size=32)\n",
    "validation_generator = generator(logSet_valid, batch_size=32)"
   ]
  },
  {
   "cell_type": "markdown",
   "metadata": {},
   "source": [
    "### Rubric: Model Architecture and Training Strategy \n",
    "- **Criteria**: Has an appropriate model architecture been employed for the task?\n",
    "- **Acceptance criteria**: The neural network uses convolution layers with appropriate filter sizes. Layers exist to introduce nonlinearity into the model. The data is normalized in the model.\n",
    "- **Output**: **PASS** \n",
    "\n",
    "\n",
    "- **Criteria**: Have the model parameters been tuned appropriately?\n",
    "- **Acceptance criteria**: Learning rate parameters are chosen with explanation, or an Adam optimizer is used. \n",
    "- **Output**: **PASS** \n",
    "\n",
    "> **HMA**: Please find below the details about the chosen architecture, applied layers, learning rate and optimizer."
   ]
  },
  {
   "cell_type": "markdown",
   "metadata": {},
   "source": [
    "### Rubric: Architecture and Training Documentation\n",
    " - **Criteria**: Is the solution design documented?\n",
    " - **Acceptance criteria**: The README thoroughly discusses the approach taken for deriving and designing a model architecture fit for solving the given problem.\n",
    " - **Output**: **PASS** \n",
    "\n",
    "\n",
    " - **Criteria**: Is the model architecture documented?\n",
    " - **Acceptance criteria**: The README provides sufficient details of the characteristics and qualities of the architecture, such as the type of model used, the number of layers, the size of each layer. Visualizations emphasizing particular qualities of the architecture are encouraged.\n",
    " - **Output**: **PASS** \n",
    "\n",
    "> **HMA**: Please find below further explation on the applied architecutre."
   ]
  },
  {
   "cell_type": "markdown",
   "metadata": {},
   "source": [
    "## Model definition and training\n",
    "The model selected for this project was the one developed by NVIDIA at the papper: https://arxiv.org/abs/1604.07316 \n",
    "\n",
    "This architecture presented for End to End Learning for self-driving cars just fits to the project's goal. It was built to map raw pixels from front-facing cameras to predict steering angle commands and had the following architectural construction:\n",
    "\n",
    "<img src=\"10-auxPic-nvidiaCnn.png\" alt=\"CNN architecture\" style=\"width:300px;\"/>\n",
    "\n",
    "**Architecture observations:**\n",
    "- The input layer applies a normalization of x / 255.0 - 0.5\n",
    "- A image crop layer follows reducing the input from 320x160 to 320x65\n",
    "- As non linearity, a ReLU activation was used for every convolutional layer.\n",
    "- A stride of 2x2 was used on the first 3 layers. \n",
    "- The implemented model below does not contain the 1164 neuron Dense layer. This  of this layer led to a lighter and faster model to train with satisfactory performance.\n",
    "- Adam optimizer with the standard learning rate of 0.001 was enough to achieve a small validation loss."
   ]
  },
  {
   "cell_type": "code",
   "execution_count": 8,
   "metadata": {
    "collapsed": false
   },
   "outputs": [
    {
     "name": "stderr",
     "output_type": "stream",
     "text": [
      "Using TensorFlow backend.\n"
     ]
    },
    {
     "name": "stdout",
     "output_type": "stream",
     "text": [
      "Epoch 1/5\n",
      "83s - loss: 0.0233 - val_loss: 0.0207\n",
      "Epoch 2/5\n",
      "81s - loss: 0.0199 - val_loss: 0.0192\n",
      "Epoch 3/5\n",
      "78s - loss: 0.0183 - val_loss: 0.0189\n",
      "Epoch 4/5\n",
      "79s - loss: 0.0169 - val_loss: 0.0185\n",
      "Epoch 5/5\n",
      "80s - loss: 0.0157 - val_loss: 0.0188\n"
     ]
    }
   ],
   "source": [
    "from keras.models import Sequential\n",
    "from keras.layers import Flatten, Dense, Lambda, Cropping2D, Convolution2D\n",
    "from keras.callbacks import ModelCheckpoint\n",
    "model = Sequential()\n",
    "model.add(Lambda(lambda x: x / 255.0 - 0.5, input_shape=(160,320,3)))\n",
    "model.add(Cropping2D(cropping=((70,25), (0,0))))\n",
    "model.add(Convolution2D(24, 5, 5, subsample=(2,2), activation='relu'))\n",
    "model.add(Convolution2D(36, 5, 5, subsample=(2,2), activation='relu'))\n",
    "model.add(Convolution2D(48, 5, 5, subsample=(2,2), activation='relu'))\n",
    "model.add(Convolution2D(64, 3, 3, activation='relu'))\n",
    "model.add(Convolution2D(64, 3, 3, activation='relu'))\n",
    "model.add(Flatten())\n",
    "model.add(Dense(100))\n",
    "model.add(Dense(50))\n",
    "model.add(Dense(10))\n",
    "model.add(Dense(1))\n",
    "\n",
    "model.compile(loss='mse', optimizer='adam')\n",
    "\n",
    "checkpoint = ModelCheckpoint('model.{epoch:02d}-{val_loss:.4f}.h5', \n",
    "                             monitor='val_loss', \n",
    "                             verbose=0, \n",
    "                             save_best_only=False, \n",
    "                             save_weights_only=False, \n",
    "                             period=1)\n",
    "\n",
    "history_object = model.fit_generator(train_generator, \n",
    "                                     samples_per_epoch=len(logSet_train), \n",
    "                                     validation_data=validation_generator,\n",
    "                                     nb_val_samples=len(logSet_valid), \n",
    "                                     nb_epoch=5, \n",
    "                                     verbose=2,\n",
    "                                     callbacks=[checkpoint])\n",
    "model.save('model.h5')"
   ]
  },
  {
   "cell_type": "markdown",
   "metadata": {},
   "source": [
    "As showed above and on the graph below, a number of 5 epochs is on the limit between model improvement and overfitting, since the validation_loss stabilizes at between epoch 4 and 5. "
   ]
  },
  {
   "cell_type": "code",
   "execution_count": 9,
   "metadata": {
    "collapsed": false
   },
   "outputs": [
    {
     "name": "stdout",
     "output_type": "stream",
     "text": [
      "dict_keys(['loss', 'val_loss'])\n"
     ]
    },
    {
     "data": {
      "image/png": "[encoded data removed]",
      "text/plain": [
       "<matplotlib.figure.Figure at 0x7fdf4e840860>"
      ]
     },
     "metadata": {},
     "output_type": "display_data"
    }
   ],
   "source": [
    "import matplotlib.pyplot as plt\n",
    "%matplotlib inline\n",
    "\n",
    "### print the keys contained in the history object\n",
    "print(history_object.history.keys())\n",
    "\n",
    "### plot the training and validation loss for each epoch\n",
    "plt.plot(history_object.history['loss'])\n",
    "plt.plot(history_object.history['val_loss'])\n",
    "plt.title('model mean squared error loss')\n",
    "plt.ylabel('mean squared error loss')\n",
    "plt.xlabel('epoch')\n",
    "plt.legend(['training set', 'validation set'], loc='upper right')\n",
    "plt.show()"
   ]
  },
  {
   "cell_type": "markdown",
   "metadata": {},
   "source": [
    "### Rubric: Simulation\n",
    " - **Criteria**: Is the car able to navigate correctly on test data?\n",
    " - **Acceptance criteria**: No tire may leave the drivable portion of the track surface. The car may not pop up onto ledges or roll over any surfaces that would otherwise be considered unsafe (if humans were in the vehicle).\n",
    " - **Output**: **PASS** \n",
    "\n",
    "> **HMA**: Please find below the notes on the simulaton run."
   ]
  },
  {
   "cell_type": "markdown",
   "metadata": {},
   "source": [
    "## Conclusion\n",
    "The generated model drives well throughout all the Track 1, except for a shaddy section after a curve, where it runs over the lane line. Nevertheless, in this situation, the car does not run over the curb, it is still safe.\n",
    "\n",
    "As presented at the introduction, only the Udacity dataset was used, which prooved a enough to generate a running model. Further data was required to improve the behavior at a specific section from Track 1. However, as detailed at the [model version 3](https://github.com/hmaleman/course-udacity-selfDrivingCarND/blob/master/term1-computerVision-DeepLearning/09-proj-behavioralCloning/03-proj-behavioralCloning-generatorRefined.ipynb), it was not possible to generate good training data using only the keyboard and the output models had worse performance.\n",
    "\n",
    "The model also performs well on Track 2. The car however is not able to handle a curve too closed and blocks. It would require additinal data to have a model handle the new situation."
   ]
  },
  {
   "cell_type": "markdown",
   "metadata": {},
   "source": [
    "### Rubric: Quality of Code\n",
    " - **Requirement**: Is the code functional?\n",
    " - **Acceptance criteria**: The model provided can be used to successfully operate the simulation. \n",
    " - **Output**: **PASS** \n",
    "\n",
    "> **HMA**: The generated code produces a model, with good results as presented at video.mp4."
   ]
  },
  {
   "cell_type": "code",
   "execution_count": null,
   "metadata": {
    "collapsed": true
   },
   "outputs": [],
   "source": []
  }
 ],
 "metadata": {
  "kernelspec": {
   "display_name": "Python 3",
   "language": "python",
   "name": "python3"
  },
  "language_info": {
   "codemirror_mode": {
    "name": "ipython",
    "version": 3
   },
   "file_extension": ".py",
   "mimetype": "text/x-python",
   "name": "python",
   "nbconvert_exporter": "python",
   "pygments_lexer": "ipython3",
   "version": "3.5.2"
  },
  "widgets": {
   "state": {},
   "version": "1.1.2"
  }
 },
 "nbformat": 4,
 "nbformat_minor": 2
}
