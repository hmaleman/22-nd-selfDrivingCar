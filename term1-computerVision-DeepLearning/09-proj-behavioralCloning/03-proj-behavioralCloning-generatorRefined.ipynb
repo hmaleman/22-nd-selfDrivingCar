{
 "cells": [
  {
   "cell_type": "markdown",
   "metadata": {},
   "source": [
    "# Project: Behavioral Cloning\n",
    "- State: This version development was stopped\n",
    "- Note: It was not possible to record quality simulation data to improve Ver"
   ]
  },
  {
   "cell_type": "markdown",
   "metadata": {},
   "source": [
    "## Download data\n"
   ]
  },
  {
   "cell_type": "code",
   "execution_count": 1,
   "metadata": {
    "collapsed": false
   },
   "outputs": [
    {
     "name": "stdout",
     "output_type": "stream",
     "text": [
      "Dataset ready.\n"
     ]
    }
   ],
   "source": [
    "# HMA: Automate data download for AWS spot usage \n",
    "# Check / Download / Unzip - Dataset\n",
    "\n",
    "import os\n",
    "simulationData_DIR = './00-proj-simulationDataUdacity'\n",
    "simulationData_ZIP = './00-proj-simulationDataUdacity.zip'\n",
    "\n",
    "if not(os.path.isdir(simulationData_DIR)):\n",
    "    if not(os.path.exists(simulationData_ZIP)):\n",
    "        # Download Dataset zipfile if DIR and ZIP file do not exist\n",
    "        import urllib.request\n",
    "        url = 'https://d17h27t6h515a5.cloudfront.net/topher/2016/December/584f6edd_data/data.zip'\n",
    "        print(\"Downloading Simulation Data...\")\n",
    "        urllib.request.urlretrieve(url, simulationData_ZIP)\n",
    "    \n",
    "    # Unzip Dataset zipfile\n",
    "    if (os.path.exists(simulationData_ZIP)):\n",
    "        print(\"Unzipping Simulation Data...\")\n",
    "        os.makedirs(simulationData_DIR)\n",
    "        import zipfile\n",
    "        zip_ref = zipfile.ZipFile(simulationData_ZIP, 'r')\n",
    "        zip_ref.extractall(simulationData_DIR)\n",
    "        zip_ref.close()\n",
    "print(\"Dataset ready.\")"
   ]
  },
  {
   "cell_type": "markdown",
   "metadata": {},
   "source": [
    "## Import data"
   ]
  },
  {
   "cell_type": "code",
   "execution_count": 2,
   "metadata": {
    "collapsed": false
   },
   "outputs": [],
   "source": [
    "# Read log file\n",
    "# [0] center image\n",
    "# [1] left image\n",
    "# [2] right image\n",
    "# [3] steering angle\n",
    "\n",
    "import csv\n",
    "\n",
    "log_DIR = os.path.join(simulationData_DIR, 'data')\n",
    "log_FILE = 'driving_log.csv'\n",
    "driving_log = []\n",
    "with open(os.path.join(log_DIR, log_FILE)) as csvfile:\n",
    "    reader = csv.reader(csvfile, escapechar=' ')\n",
    "    for line in reader:\n",
    "        driving_log.append(line)\n",
    "\n",
    "driving_log = driving_log[1:] # crop CSV titles\n",
    "pass"
   ]
  },
  {
   "cell_type": "markdown",
   "metadata": {},
   "source": [
    "Perform steps to augment the training data:\n",
    "- Use captured images from the left camera with steering angle minus delta as example image to return to the center\n",
    "- Use captured images from the right camera with steering angle plux delta as example image to return to the center"
   ]
  },
  {
   "cell_type": "code",
   "execution_count": 3,
   "metadata": {
    "collapsed": false
   },
   "outputs": [],
   "source": [
    "import cv2\n",
    "\n",
    "img_DIR = log_DIR\n",
    "centerCamImageIndex = 0\n",
    "leftCamImageIndex   = 1\n",
    "rightCamImageIndex  = 2\n",
    "steeringAngleIndex  = 3\n",
    "\n",
    "logSet = []\n",
    "deltaAngle = 0.25\n",
    "for log_entry in driving_log:\n",
    "    img_FILE = log_entry[centerCamImageIndex]\n",
    "    angle = float(log_entry[steeringAngleIndex])\n",
    "    logSet.append([img_FILE, angle, False])\n",
    "    logSet.append([img_FILE, -angle, True])\n",
    "    \n",
    "    img_FILE = log_entry[leftCamImageIndex]\n",
    "    angle = float(log_entry[steeringAngleIndex]) + deltaAngle\n",
    "    logSet.append([img_FILE, angle, False])\n",
    "    logSet.append([img_FILE, -angle, True])\n",
    "    \n",
    "    img_FILE = log_entry[rightCamImageIndex]\n",
    "    angle = float(log_entry[steeringAngleIndex]) - deltaAngle\n",
    "    logSet.append([img_FILE, angle, False])\n",
    "    logSet.append([img_FILE, -angle, True])"
   ]
  },
  {
   "cell_type": "code",
   "execution_count": 4,
   "metadata": {
    "collapsed": false
   },
   "outputs": [],
   "source": [
    "import cv2\n",
    "import numpy as np\n",
    "\n",
    "imgIndex = 0\n",
    "angleIndex = 1\n",
    "flipIndex = 2\n",
    "\n",
    "def generator(samples, batch_size=32):\n",
    "    while True:\n",
    "        for offset in range(0, len(samples), batch_size):\n",
    "            batch_samples = samples[offset:offset + batch_size]\n",
    "            imgSet = []\n",
    "            angleSet = []\n",
    "            \n",
    "            for log_entry in batch_samples:\n",
    "                img_FILE = log_entry[imgIndex]\n",
    "                img = cv2.imread(os.path.join(img_DIR, img_FILE))\n",
    "                if log_entry[flipIndex] == True:\n",
    "                    img = cv2.flip(img, 1)\n",
    "                imgSet.append(img)\n",
    "                angleSet.append(log_entry[angleIndex])\n",
    "\n",
    "            X_train = np.array(imgSet)\n",
    "            y_train = np.array(angleSet)\n",
    "            yield sklearn.utils.shuffle(X_train, y_train)\n"
   ]
  },
  {
   "cell_type": "code",
   "execution_count": 5,
   "metadata": {
    "collapsed": true
   },
   "outputs": [],
   "source": [
    "import sklearn\n",
    "from sklearn.model_selection import train_test_split\n",
    "\n",
    "sklearn.utils.shuffle(logSet)\n",
    "logSet_train, logSet_valid = sklearn.model_selection.train_test_split(logSet, test_size=0.2)\n",
    "\n",
    "train_generator = generator(logSet_train, batch_size=32)\n",
    "validation_generator = generator(logSet_valid, batch_size=32)"
   ]
  },
  {
   "cell_type": "markdown",
   "metadata": {},
   "source": [
    "## Define Model"
   ]
  },
  {
   "cell_type": "code",
   "execution_count": 6,
   "metadata": {
    "collapsed": false
   },
   "outputs": [
    {
     "name": "stderr",
     "output_type": "stream",
     "text": [
      "Using TensorFlow backend.\n"
     ]
    }
   ],
   "source": [
    "from keras.models import Sequential\n",
    "from keras.layers import Flatten, Dense, Lambda, Cropping2D, Convolution2D\n",
    "\n",
    "model = Sequential()\n",
    "model.add(Lambda(lambda x: x / 255.0 - 0.5, input_shape=(160,320,3)))\n",
    "model.add(Cropping2D(cropping=((70,25), (0,0))))\n",
    "model.add(Convolution2D(24, 5, 5, subsample=(2,2), activation='relu'))\n",
    "model.add(Convolution2D(36, 5, 5, subsample=(2,2), activation='relu'))\n",
    "model.add(Convolution2D(48, 5, 5, subsample=(2,2), activation='relu'))\n",
    "model.add(Convolution2D(64, 3, 3, activation='relu'))\n",
    "model.add(Convolution2D(64, 3, 3, activation='relu'))\n",
    "model.add(Flatten())\n",
    "model.add(Dense(100))\n",
    "model.add(Dense(50))\n",
    "model.add(Dense(10))\n",
    "model.add(Dense(1))"
   ]
  },
  {
   "cell_type": "code",
   "execution_count": 6,
   "metadata": {
    "collapsed": false
   },
   "outputs": [
    {
     "name": "stderr",
     "output_type": "stream",
     "text": [
      "Using TensorFlow backend.\n"
     ]
    },
    {
     "name": "stdout",
     "output_type": "stream",
     "text": [
      "Epoch 1/5\n",
      "94s - loss: 0.0234 - val_loss: 0.0222\n",
      "Epoch 2/5\n",
      "90s - loss: 0.0199 - val_loss: 0.0197\n",
      "Epoch 3/5\n",
      "87s - loss: 0.0182 - val_loss: 0.0189\n",
      "Epoch 4/5\n",
      "88s - loss: 0.0167 - val_loss: 0.0175\n",
      "Epoch 5/5\n",
      "86s - loss: 0.0153 - val_loss: 0.0178\n"
     ]
    }
   ],
   "source": [
    "model.compile(loss='mse', optimizer='adam')\n",
    "history_object = model.fit_generator(train_generator, \n",
    "                                     samples_per_epoch=len(logSet_train), \n",
    "                                     validation_data=validation_generator,\n",
    "                                     nb_val_samples=len(logSet_valid), \n",
    "                                     nb_epoch=5, \n",
    "                                     verbose=2)\n",
    "model.save('model.h5')"
   ]
  },
  {
   "cell_type": "code",
   "execution_count": 6,
   "metadata": {
    "collapsed": true
   },
   "outputs": [],
   "source": [
    "import matplotlib.pyplot as plt\n",
    "%matplotlib inline\n",
    "\n",
    "def plotHistory():\n",
    "    global history_object \n",
    "    ### print the keys contained in the history object\n",
    "    print(history_object.history.keys())\n",
    "\n",
    "    ### plot the training and validation loss for each epoch\n",
    "    plt.plot(history_object.history['loss'])\n",
    "    plt.plot(history_object.history['val_loss'])\n",
    "    plt.title('model mean squared error loss')\n",
    "    plt.ylabel('mean squared error loss')\n",
    "    plt.xlabel('epoch')\n",
    "    plt.legend(['training set', 'validation set'], loc='upper right')\n",
    "    plt.show()"
   ]
  },
  {
   "cell_type": "code",
   "execution_count": 7,
   "metadata": {
    "collapsed": false
   },
   "outputs": [
    {
     "name": "stdout",
     "output_type": "stream",
     "text": [
      "dict_keys(['loss', 'val_loss'])\n"
     ]
    },
    {
     "data": {
      "image/png": "[encoded data removed]",
      "text/plain": [
       "<matplotlib.figure.Figure at 0x7f4ac97eab00>"
      ]
     },
     "metadata": {},
     "output_type": "display_data"
    }
   ],
   "source": [
    "plotHistory()"
   ]
  },
  {
   "cell_type": "code",
   "execution_count": null,
   "metadata": {
    "collapsed": false
   },
   "outputs": [],
   "source": [
    "import os\n",
    "simulationRefineData_DIR = './00-proj-simulationDataRefine01'\n",
    "simulationRefineData_ZIP = '00-proj-simulationDataRefine01.zip'\n",
    "\n",
    "os.makedirs(simulationRefineData_DIR)\n",
    "import zipfile\n",
    "zip_ref = zipfile.ZipFile(simulationRefineData_ZIP, 'r')\n",
    "zip_ref.extractall(simulationRefineData_DIR)\n",
    "zip_ref.close()"
   ]
  },
  {
   "cell_type": "code",
   "execution_count": 8,
   "metadata": {
    "collapsed": true
   },
   "outputs": [],
   "source": [
    "# Read log file\n",
    "# [0] center image\n",
    "# [1] left image\n",
    "# [2] right image\n",
    "# [3] steering angle\n",
    "\n",
    "import csv\n",
    "\n",
    "log_DIR = simulationRefineData_DIR\n",
    "log_FILE = 'driving_log.csv'\n",
    "driving_log = []\n",
    "with open(os.path.join(log_DIR, log_FILE)) as csvfile:\n",
    "    reader = csv.reader(csvfile, escapechar=' ')\n",
    "    for line in reader:\n",
    "        driving_log.append(line)\n",
    "\n",
    "driving_log = driving_log[1:] # crop CSV titles\n",
    "pass"
   ]
  },
  {
   "cell_type": "code",
   "execution_count": 9,
   "metadata": {
    "collapsed": false
   },
   "outputs": [
    {
     "data": {
      "text/plain": [
       "48216"
      ]
     },
     "execution_count": 9,
     "metadata": {},
     "output_type": "execute_result"
    }
   ],
   "source": [
    "len(logSet)"
   ]
  },
  {
   "cell_type": "code",
   "execution_count": 11,
   "metadata": {
    "collapsed": false
   },
   "outputs": [],
   "source": [
    "logSet_save = list(logSet)"
   ]
  },
  {
   "cell_type": "code",
   "execution_count": 12,
   "metadata": {
    "collapsed": true
   },
   "outputs": [],
   "source": [
    "import cv2\n",
    "\n",
    "deltaAngle = 0.25\n",
    "for log_entry in driving_log:\n",
    "    img_FILE = log_entry[centerCamImageIndex]\n",
    "    angle = float(log_entry[steeringAngleIndex])\n",
    "    logSet.append([img_FILE, angle, False])\n",
    "    logSet.append([img_FILE, -angle, True])"
   ]
  },
  {
   "cell_type": "code",
   "execution_count": 13,
   "metadata": {
    "collapsed": false
   },
   "outputs": [
    {
     "data": {
      "text/plain": [
       "64288"
      ]
     },
     "execution_count": 13,
     "metadata": {},
     "output_type": "execute_result"
    }
   ],
   "source": [
    "len(logSet)"
   ]
  },
  {
   "cell_type": "code",
   "execution_count": 14,
   "metadata": {
    "collapsed": true
   },
   "outputs": [],
   "source": [
    "sklearn.utils.shuffle(logSet)\n",
    "logSet_train, logSet_valid = sklearn.model_selection.train_test_split(logSet, test_size=0.2)\n",
    "\n",
    "train_generator = generator(logSet_train, batch_size=32)\n",
    "validation_generator = generator(logSet_valid, batch_size=32)"
   ]
  },
  {
   "cell_type": "code",
   "execution_count": 15,
   "metadata": {
    "collapsed": false
   },
   "outputs": [
    {
     "name": "stderr",
     "output_type": "stream",
     "text": [
      "Using TensorFlow backend.\n"
     ]
    }
   ],
   "source": [
    "from keras.models import load_model\n",
    "model = load_model('model.h5')"
   ]
  },
  {
   "cell_type": "code",
   "execution_count": 16,
   "metadata": {
    "collapsed": false
   },
   "outputs": [
    {
     "name": "stdout",
     "output_type": "stream",
     "text": [
      "Epoch 1/3\n",
      "107s - loss: 0.0141 - val_loss: 0.0145\n",
      "Epoch 2/3\n",
      "107s - loss: 0.0124 - val_loss: 0.0136\n",
      "Epoch 3/3\n",
      "106s - loss: 0.0109 - val_loss: 0.0135\n"
     ]
    }
   ],
   "source": [
    "history_object = model.fit_generator(train_generator, \n",
    "                                     samples_per_epoch=len(logSet_train), \n",
    "                                     validation_data=validation_generator,\n",
    "                                     nb_val_samples=len(logSet_valid), \n",
    "                                     nb_epoch=3, \n",
    "                                     verbose=2)\n",
    "model.save('model.h5')"
   ]
  },
  {
   "cell_type": "code",
   "execution_count": null,
   "metadata": {
    "collapsed": true
   },
   "outputs": [],
   "source": [
    "from keras.callbacks import ModelCheckpoint\n",
    "\n",
    "checkpoint = ModelCheckpoint(filepath, monitor='val_loss', verbose=0, save_best_only=False, save_weights_only=False, mode='auto', period=1)\n"
   ]
  },
  {
   "cell_type": "code",
   "execution_count": null,
   "metadata": {
    "collapsed": true
   },
   "outputs": [],
   "source": []
  },
  {
   "cell_type": "markdown",
   "metadata": {},
   "source": [
    "## Train Model"
   ]
  }
 ],
 "metadata": {
  "kernelspec": {
   "display_name": "Python 3",
   "language": "python",
   "name": "python3"
  },
  "language_info": {
   "codemirror_mode": {
    "name": "ipython",
    "version": 3
   },
   "file_extension": ".py",
   "mimetype": "text/x-python",
   "name": "python",
   "nbconvert_exporter": "python",
   "pygments_lexer": "ipython3",
   "version": "3.5.2"
  },
  "widgets": {
   "state": {},
   "version": "1.1.2"
  }
 },
 "nbformat": 4,
 "nbformat_minor": 2
}
