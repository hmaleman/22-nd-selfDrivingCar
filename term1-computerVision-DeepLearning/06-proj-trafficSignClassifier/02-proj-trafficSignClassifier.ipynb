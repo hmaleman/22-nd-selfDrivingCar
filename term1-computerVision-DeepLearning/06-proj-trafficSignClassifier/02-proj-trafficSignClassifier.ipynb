{
 "cells": [
  {
   "cell_type": "markdown",
   "metadata": {},
   "source": [
    "# Self-Driving Car Engineer Nanodegree\n",
    "\n",
    "## Deep Learning\n",
    "\n",
    "## Project: Build a Traffic Sign Recognition Classifier\n",
    "\n",
    "In this notebook, a template is provided for you to implement your functionality in stages, which is required to successfully complete this project. If additional code is required that cannot be included in the notebook, be sure that the Python code is successfully imported and included in your submission if necessary. \n",
    "\n",
    "> **Note**: Once you have completed all of the code implementations, you need to finalize your work by exporting the iPython Notebook as an HTML document. Before exporting the notebook to html, all of the code cells need to have been run so that reviewers can see the final implementation and output. You can then export the notebook by using the menu above and navigating to  \\n\",\n",
    "    \"**File -> Download as -> HTML (.html)**. Include the finished document along with this notebook as your submission. \n",
    "\n",
    "In addition to implementing code, there is a writeup to complete. The writeup should be completed in a separate file, which can be either a markdown file or a pdf document. There is a [write up template](https://github.com/udacity/CarND-Traffic-Sign-Classifier-Project/blob/master/writeup_template.md) that can be used to guide the writing process. Completing the code template and writeup template will cover all of the [rubric points](https://review.udacity.com/#!/rubrics/481/view) for this project.\n",
    "\n",
    "The [rubric](https://review.udacity.com/#!/rubrics/481/view) contains \"Stand Out Suggestions\" for enhancing the project beyond the minimum requirements. The stand out suggestions are optional. If you decide to pursue the \"stand out suggestions\", you can include the code in this Ipython notebook and also discuss the results in the writeup file.\n",
    "\n",
    "\n",
    ">**Note:** Code and Markdown cells can be executed using the **Shift + Enter** keyboard shortcut. In addition, Markdown cells can be edited by typically double-clicking the cell to enter edit mode."
   ]
  },
  {
   "cell_type": "markdown",
   "metadata": {},
   "source": [
    "---\n",
    "## Step 0: Load The Data"
   ]
  },
  {
   "cell_type": "code",
   "execution_count": 1,
   "metadata": {
    "collapsed": false
   },
   "outputs": [
    {
     "name": "stdout",
     "output_type": "stream",
     "text": [
      "Traffic Sign Dataset ready.\n"
     ]
    }
   ],
   "source": [
    "# HMA: Automate data download for AWS spot usage \n",
    "# Check / Download / Unzip - Traffic Sign Dataset\n",
    "\n",
    "import os\n",
    "trafficSignData_DIR = './00-trafficSignData'\n",
    "trafficSignData_ZIP = './00-trafficSignData.zip'\n",
    "\n",
    "if not(os.path.isdir(trafficSignData_DIR)):\n",
    "    if not(os.path.exists(trafficSignData_ZIP)):\n",
    "        # Download Dataset zipfile if DIR and ZIP file do not exist\n",
    "        import urllib.request\n",
    "        url = 'https://d17h27t6h515a5.cloudfront.net/topher/2017/February/5898cd6f_traffic-signs-data/traffic-signs-data.zip'\n",
    "        print(\"Downloading Traffic Sign Dataset...\")\n",
    "        urllib.request.urlretrieve(url, trafficSignData_ZIP)\n",
    "    \n",
    "    # Unzip Dataset zipfile\n",
    "    if (os.path.exists(trafficSignData_ZIP)):\n",
    "        print(\"Unzipping Traffic Sign Dataset...\")\n",
    "        os.makedirs(trafficSignData_DIR)\n",
    "        import zipfile\n",
    "        zip_ref = zipfile.ZipFile(trafficSignData_ZIP, 'r')\n",
    "        zip_ref.extractall(trafficSignData_DIR)\n",
    "        zip_ref.close()\n",
    "print(\"Traffic Sign Dataset ready.\")"
   ]
  },
  {
   "cell_type": "code",
   "execution_count": 2,
   "metadata": {
    "collapsed": false
   },
   "outputs": [],
   "source": [
    "# Load pickled data\n",
    "import pickle\n",
    "\n",
    "# HMA: Fill this in based on where you saved the training and testing data\n",
    "training_file = os.path.join(trafficSignData_DIR, 'train.p') \n",
    "validation_file = os.path.join(trafficSignData_DIR, 'valid.p')\n",
    "testing_file = os.path.join(trafficSignData_DIR, 'test.p')\n",
    "\n",
    "with open(training_file, mode='rb') as f:\n",
    "    train = pickle.load(f)\n",
    "with open(validation_file, mode='rb') as f:\n",
    "    valid = pickle.load(f)\n",
    "with open(testing_file, mode='rb') as f:\n",
    "    test = pickle.load(f)\n",
    "    \n",
    "X_train, y_train = train['features'], train['labels']\n",
    "X_valid, y_valid = valid['features'], valid['labels']\n",
    "X_test, y_test = test['features'], test['labels']"
   ]
  },
  {
   "cell_type": "markdown",
   "metadata": {},
   "source": [
    "---\n",
    "\n",
    "## Step 1: Dataset Summary & Exploration\n",
    "\n",
    "The pickled data is a dictionary with 4 key/value pairs:\n",
    "\n",
    "- `'features'` is a 4D array containing raw pixel data of the traffic sign images, (num examples, width, height, channels).\n",
    "- `'labels'` is a 1D array containing the label/class id of the traffic sign. The file `signnames.csv` contains id -> name mappings for each id.\n",
    "- `'sizes'` is a list containing tuples, (width, height) representing the original width and height the image.\n",
    "- `'coords'` is a list containing tuples, (x1, y1, x2, y2) representing coordinates of a bounding box around the sign in the image. **THESE COORDINATES ASSUME THE ORIGINAL IMAGE. THE PICKLED DATA CONTAINS RESIZED VERSIONS (32 by 32) OF THESE IMAGES**\n",
    "\n",
    "Complete the basic data summary below. Use python, numpy and/or pandas methods to calculate the data summary rather than hard coding the results. For example, the [pandas shape method](http://pandas.pydata.org/pandas-docs/stable/generated/pandas.DataFrame.shape.html) might be useful for calculating some of the summary results. "
   ]
  },
  {
   "cell_type": "markdown",
   "metadata": {},
   "source": [
    "### Provide a Basic Summary of the Data Set Using Python, Numpy and/or Pandas"
   ]
  },
  {
   "cell_type": "code",
   "execution_count": 3,
   "metadata": {
    "collapsed": false
   },
   "outputs": [
    {
     "name": "stdout",
     "output_type": "stream",
     "text": [
      "Number of training examples = 34799\n",
      "Number of testing examples = 12630\n",
      "Image data shape = (32, 32)\n",
      "Number of classes = 43\n"
     ]
    }
   ],
   "source": [
    "### Replace each question mark with the appropriate value. \n",
    "### Use python, pandas or numpy methods rather than hard coding the results\n",
    "\n",
    "# HMA: Number of training examples\n",
    "n_train = len(X_train)\n",
    "\n",
    "# HMA: Number of validation examples\n",
    "n_validation = len(X_valid)\n",
    "\n",
    "# HMA: Number of testing examples.\n",
    "n_test = len(X_test)\n",
    "\n",
    "# HMA: What's the shape of an traffic sign image?\n",
    "# HMA: Trainig array composition - (num examples, width, height, channels)\n",
    "_, image_width, image_height, _ = X_train.shape\n",
    "image_shape = (image_width, image_height)\n",
    "\n",
    "# HMA: How many unique classes/labels there are in the dataset.\n",
    "n_classes = len(set(y_train))\n",
    "\n",
    "print(\"Number of training examples =\", n_train)\n",
    "print(\"Number of testing examples =\", n_test)\n",
    "print(\"Image data shape =\", image_shape)\n",
    "print(\"Number of classes =\", n_classes)"
   ]
  },
  {
   "cell_type": "markdown",
   "metadata": {},
   "source": [
    "### Rubric: Dataset Exploration\n",
    " - **Criteria**: Dataset Summary\n",
    " - **Acceptance criteria**: The submission includes a basic summary of the data set.\n",
    " - **Output**: **PASS** - The cell above prints a general summary from the training and test sets, and also the number of classes."
   ]
  },
  {
   "cell_type": "markdown",
   "metadata": {},
   "source": [
    "### Include an exploratory visualization of the dataset"
   ]
  },
  {
   "cell_type": "markdown",
   "metadata": {},
   "source": [
    "Visualize the German Traffic Signs Dataset using the pickled file(s). This is open ended, suggestions include: plotting traffic sign images, plotting the count of each sign, etc. \n",
    "\n",
    "The [Matplotlib](http://matplotlib.org/) [examples](http://matplotlib.org/examples/index.html) and [gallery](http://matplotlib.org/gallery.html) pages are a great resource for doing visualizations in Python.\n",
    "\n",
    "**NOTE:** It's recommended you start with something simple first. If you wish to do more, come back to it after you've completed the rest of the sections. It can be interesting to look at the distribution of classes in the training, validation and test set. Is the distribution the same? Are there more examples of some classes than others?"
   ]
  },
  {
   "cell_type": "code",
   "execution_count": 4,
   "metadata": {
    "collapsed": false
   },
   "outputs": [],
   "source": [
    "### Data exploration visualization code goes here.\n",
    "### Feel free to use as many code cells as needed.\n",
    "import matplotlib.pyplot as plt\n",
    "# Visualizations will be shown in the notebook.\n",
    "%matplotlib inline"
   ]
  },
  {
   "cell_type": "code",
   "execution_count": 5,
   "metadata": {
    "collapsed": false
   },
   "outputs": [
    {
     "data": {
      "image/png": "[encoded data removed]",
      "text/plain": [
       "<matplotlib.figure.Figure at 0x7fe27c66a828>"
      ]
     },
     "metadata": {},
     "output_type": "display_data"
    }
   ],
   "source": [
    "# HMA: Histogram from Matplot sample - a stacked bar plot\n",
    "import numpy as np\n",
    "import matplotlib.pyplot as plt\n",
    "from collections import Counter\n",
    "\n",
    "tsDict_train = Counter(y_train)\n",
    "tsDict_test = Counter(y_test)\n",
    "\n",
    "tsCount_train = tsDict_train.values()\n",
    "tsCount_test = tsDict_test.values()\n",
    "width = 0.8\n",
    "\n",
    "p1 = plt.bar(list(tsDict_train.keys()), tsCount_train, width, color='#d62728')\n",
    "p2 = plt.bar(list(tsDict_test.keys()), tsCount_test, width, bottom=tsCount_train)          \n",
    "\n",
    "plt.xlabel('Traffic Sign Label index')\n",
    "plt.title('Traffic Sign Training and Testing dataset per Label')\n",
    "plt.legend((p1[0], p2[0]), ('Training Count', 'Test Count'))\n",
    "\n",
    "plt.show()"
   ]
  },
  {
   "cell_type": "markdown",
   "metadata": {},
   "source": [
    "### Rubric:  Dataset Exploration\n",
    " - **Criteria**: Exploratory Visualization\n",
    " - **Acceptance criteria**: The submission includes an exploratory visualization on the dataset.\n",
    " - **Output**: **PASS** - The histogram plot above presents the count of each class for the training ans test sets for the analysis which follows.\n",
    "\n",
    "> **HMA** - The histogram above shows the count of training inputs per label (from the training set) and the associated count of tests per label (from the test set). There are clearly some classes (lables) with many more Training samples, 4 times or more. The same observation is valid to the number of tests for the same classes. Outcomes from this scenario:\n",
    "> - This will probably lead to poor prediction for classes with less then 1000 training samples.\n",
    "> - A low number of tests for label with potencially poor prediction, will influence the accuracy measurement, since a small number of wrong predictions will impact less this measurement.\n",
    "\n",
    "> This could be solved with more data (which is not always availabel), or data augmentation (for instance, image rotation as a new training sample for the same class). Let's anyway see how the dataset as it is will behave. "
   ]
  },
  {
   "cell_type": "markdown",
   "metadata": {},
   "source": [
    "----\n",
    "\n",
    "## Step 2: Design and Test a Model Architecture\n",
    "\n",
    "Design and implement a deep learning model that learns to recognize traffic signs. Train and test your model on the [German Traffic Sign Dataset](http://benchmark.ini.rub.de/?section=gtsrb&subsection=dataset).\n",
    "\n",
    "The LeNet-5 implementation shown in the [classroom](https://classroom.udacity.com/nanodegrees/nd013/parts/fbf77062-5703-404e-b60c-95b78b2f3f9e/modules/6df7ae49-c61c-4bb2-a23e-6527e69209ec/lessons/601ae704-1035-4287-8b11-e2c2716217ad/concepts/d4aca031-508f-4e0b-b493-e7b706120f81) at the end of the CNN lesson is a solid starting point. You'll have to change the number of classes and possibly the preprocessing, but aside from that it's plug and play! \n",
    "\n",
    "With the LeNet-5 solution from the lecture, you should expect a validation set accuracy of about 0.89. To meet specifications, the validation set accuracy will need to be at least 0.93. It is possible to get an even higher accuracy, but 0.93 is the minimum for a successful project submission. \n",
    "\n",
    "There are various aspects to consider when thinking about this problem:\n",
    "\n",
    "- Neural network architecture (is the network over or underfitting?)\n",
    "- Play around preprocessing techniques (normalization, rgb to grayscale, etc)\n",
    "- Number of examples per label (some have more than others).\n",
    "- Generate fake data.\n",
    "\n",
    "Here is an example of a [published baseline model on this problem](http://yann.lecun.com/exdb/publis/pdf/sermanet-ijcnn-11.pdf). It's not required to be familiar with the approach used in the paper but, it's good practice to try to read papers like these."
   ]
  },
  {
   "cell_type": "markdown",
   "metadata": {},
   "source": [
    "### Pre-process the Data Set (normalization, grayscale, etc.)"
   ]
  },
  {
   "cell_type": "markdown",
   "metadata": {},
   "source": [
    "Minimally, the image data should be normalized so that the data has mean zero and equal variance. For image data, `(pixel - 128)/ 128` is a quick way to approximately normalize the data and can be used in this project. \n",
    "\n",
    "Other pre-processing steps are optional. You can try different techniques to see if it improves performance. \n",
    "\n",
    "Use the code cell (or multiple code cells, if necessary) to implement the first step of your project."
   ]
  },
  {
   "cell_type": "code",
   "execution_count": 6,
   "metadata": {
    "collapsed": true
   },
   "outputs": [],
   "source": [
    "### Preprocess the data here. It is required to normalize the data. Other preprocessing steps could include \n",
    "### converting to grayscale, etc.\n",
    "### Feel free to use as many code cells as needed."
   ]
  },
  {
   "cell_type": "markdown",
   "metadata": {},
   "source": [
    "### HMA: Pre-process - Normalize\n",
    "Normalize the training data"
   ]
  },
  {
   "cell_type": "code",
   "execution_count": 7,
   "metadata": {
    "collapsed": true
   },
   "outputs": [],
   "source": [
    "# HMA: Save Data for later reference\n",
    "\n",
    "X_train_save = list(X_train)\n",
    "X_valid_save = list(X_valid)\n",
    "X_test_save = list(X_test)"
   ]
  },
  {
   "cell_type": "code",
   "execution_count": 8,
   "metadata": {
    "collapsed": false
   },
   "outputs": [],
   "source": [
    "# HMA: From forum - https://discussions.udacity.com/t/color-bgr-to-gray-with-cv2/\n",
    "\n",
    "import cv2\n",
    "\n",
    "def convert2gray(imgDataset):\n",
    "    imgDatasetGray = []\n",
    "    for img in imgDataset:\n",
    "        bgr_image = img\n",
    "        gray_image = cv2.cvtColor(bgr_image, cv2.COLOR_BGR2GRAY) #shape (32,32)\n",
    "        gray_image = gray_image.reshape((32,32,1)) #shape (32,32,1)\n",
    "        imgDatasetGray.append(gray_image)\n",
    "    return imgDatasetGray"
   ]
  },
  {
   "cell_type": "code",
   "execution_count": 9,
   "metadata": {
    "collapsed": false
   },
   "outputs": [],
   "source": [
    "# HMA: Normalization\n",
    "# https://discussions.udacity.com/t/lenet-producing-only-a-75-accuracy\n",
    "\n",
    "def normalize(imgDataset):\n",
    "    #return[((X - 128)/128) for X in imgDataset]\n",
    "    return[(X/127.5 - 1.0) for X in imgDataset]"
   ]
  },
  {
   "cell_type": "code",
   "execution_count": 10,
   "metadata": {
    "collapsed": false
   },
   "outputs": [],
   "source": [
    "X_train = convert2gray(X_train)\n",
    "X_valid = convert2gray(X_valid)\n",
    "X_test = convert2gray(X_test)\n",
    "\n",
    "X_train = normalize(X_train)\n",
    "X_valid = normalize(X_valid)\n",
    "X_test = normalize(X_test)"
   ]
  },
  {
   "cell_type": "markdown",
   "metadata": {},
   "source": [
    "### Rubric: Design and Test a Model Architecture\n",
    " - **Criteria**: Preprocessing \n",
    " - **Acceptance criteria**: The submission describes the preprocessing techniques used and why these techniques were chosen.\n",
    " - **Output**: **PASS** \n",
    "\n",
    "> **HMA**: Grey conversion was a second applied technique to increase the model's accuracy. Normalization was the first preprocessing technique since it's required for a faster improvement during training. "
   ]
  },
  {
   "cell_type": "markdown",
   "metadata": {},
   "source": [
    "### HMA: Define Model\n",
    "Using the LeNet model"
   ]
  },
  {
   "cell_type": "code",
   "execution_count": 12,
   "metadata": {
    "collapsed": true
   },
   "outputs": [],
   "source": [
    "### Model Architecture\n",
    "### Define your architecture here.\n",
    "### Feel free to use as many code cells as needed."
   ]
  },
  {
   "cell_type": "markdown",
   "metadata": {},
   "source": [
    "### HMA: Define Model - Architecture"
   ]
  },
  {
   "cell_type": "markdown",
   "metadata": {},
   "source": [
    "- **Input**: The LeNet architecture accepts a 32x32xC image as input, where C is the number of color channels. The Traffic Sign Dataset has three color channels, but only one after conversion to grayscale , the input is 32x32x1.\n",
    "\n",
    "- **Architecture**\n",
    "  - **Layer 1**\n",
    "    - **Convolutional.** The output shape should be 28x28x6.\n",
    "    - **Activation.** ReLU.\n",
    "    - **Pooling.** The output shape should be 14x14x6.\n",
    "  - **Layer 2**\n",
    "    - **Convolutional.** The output shape should be 10x10x16.\n",
    "    - **Activation.** ReLU.\n",
    "    - **Pooling.** The output shape should be 5x5x16.\n",
    "    - **Flatten.** Flatten the output shape of the final pooling layer such that it's 1D instead of 3D.\n",
    "  - **Layer 3**\n",
    "    - **Fully Connected.** This should have 120 outputs.\n",
    "    - **Activation.** ReLU.\n",
    "  - **Layer 4**\n",
    "    - **Fully Connected.** This should have 84 outputs.\n",
    "    - **Activation.** ReLU.\n",
    "  - **Layer 5**\n",
    "    - **Fully Connected (Logits).** This should have 43 outputs.\n",
    "\n",
    "- **Output**: Return the result of the 2nd fully connected layer."
   ]
  },
  {
   "cell_type": "markdown",
   "metadata": {},
   "source": [
    "### Rubric: Design and Test a Model Architecture\n",
    " - **Criteria**: Model Architecture \n",
    " - **Acceptance criteria**: The submission provides details of the characteristics and qualities of the architecture, including the type of model used, the number of layers, and the size of each layer. Visualizations emphasizing particular qualities of the architecture are encouraged.\n",
    " - **Output**: **PASS**\n",
    "> **HMA**: Here it was used the LeNet architecture, with the changes presented on the previous lesson (pooling instead of the orignal sampling technique). More details on the layers sizes and activations are presented above."
   ]
  },
  {
   "cell_type": "code",
   "execution_count": 13,
   "metadata": {
    "collapsed": true
   },
   "outputs": [],
   "source": [
    "import tensorflow as tf\n",
    "from tensorflow.contrib.layers import flatten\n",
    "\n",
    "def LeNet(x):    \n",
    "    # Arguments used for tf.truncated_normal, randomly defines variables for the weights and biases for each layer\n",
    "    mu = 0\n",
    "    sigma = 0.1\n",
    "    \n",
    "    # SOLUTION: Layer 1: Convolutional. Input = 32x32x3. Output = 28x28x6.\n",
    "    conv1_W = tf.Variable(tf.truncated_normal(shape=(5, 5, 1, 6), mean = mu, stddev = sigma))\n",
    "    conv1_b = tf.Variable(tf.zeros(6))\n",
    "    conv1   = tf.nn.conv2d(x, conv1_W, strides=[1, 1, 1, 1], padding='VALID') + conv1_b\n",
    "\n",
    "    # SOLUTION: Activation.\n",
    "    conv1 = tf.nn.relu(conv1)\n",
    "\n",
    "    # SOLUTION: Pooling. Input = 28x28x6. Output = 14x14x6.\n",
    "    conv1 = tf.nn.max_pool(conv1, ksize=[1, 2, 2, 1], strides=[1, 2, 2, 1], padding='VALID')\n",
    "\n",
    "    # SOLUTION: Layer 2: Convolutional. Output = 10x10x16.\n",
    "    conv2_W = tf.Variable(tf.truncated_normal(shape=(5, 5, 6, 16), mean = mu, stddev = sigma))\n",
    "    conv2_b = tf.Variable(tf.zeros(16))\n",
    "    conv2   = tf.nn.conv2d(conv1, conv2_W, strides=[1, 1, 1, 1], padding='VALID') + conv2_b\n",
    "    \n",
    "    # SOLUTION: Activation.\n",
    "    conv2 = tf.nn.relu(conv2)\n",
    "\n",
    "    # SOLUTION: Pooling. Input = 10x10x16. Output = 5x5x16.\n",
    "    conv2 = tf.nn.max_pool(conv2, ksize=[1, 2, 2, 1], strides=[1, 2, 2, 1], padding='VALID')\n",
    "\n",
    "    # SOLUTION: Flatten. Input = 5x5x16. Output = 400.\n",
    "    fc0   = flatten(conv2)\n",
    "    \n",
    "    # SOLUTION: Layer 3: Fully Connected. Input = 400. Output = 120.\n",
    "    fc1_W = tf.Variable(tf.truncated_normal(shape=(400, 120), mean = mu, stddev = sigma))\n",
    "    fc1_b = tf.Variable(tf.zeros(120))\n",
    "    fc1   = tf.matmul(fc0, fc1_W) + fc1_b\n",
    "    \n",
    "    # SOLUTION: Activation.\n",
    "    fc1    = tf.nn.relu(fc1)\n",
    "\n",
    "    # SOLUTION: Layer 4: Fully Connected. Input = 120. Output = 84.\n",
    "    fc2_W  = tf.Variable(tf.truncated_normal(shape=(120, 84), mean = mu, stddev = sigma))\n",
    "    fc2_b  = tf.Variable(tf.zeros(84))\n",
    "    fc2    = tf.matmul(fc1, fc2_W) + fc2_b\n",
    "    \n",
    "    # SOLUTION: Activation.\n",
    "    fc2    = tf.nn.relu(fc2)\n",
    "\n",
    "    # SOLUTION: Layer 5: Fully Connected. Input = 84. Output = 43.\n",
    "    fc3_W  = tf.Variable(tf.truncated_normal(shape=(84, 43), mean = mu, stddev = sigma))\n",
    "    fc3_b  = tf.Variable(tf.zeros(43))\n",
    "    logits = tf.matmul(fc2, fc3_W) + fc3_b\n",
    "    \n",
    "    return logits"
   ]
  },
  {
   "cell_type": "markdown",
   "metadata": {},
   "source": [
    "### HMA: Define Model - Features and Labels\n",
    "- x: placeholder for a batch of input images \n",
    "- y: placeholder for a batch of output labels"
   ]
  },
  {
   "cell_type": "code",
   "execution_count": 15,
   "metadata": {
    "collapsed": false
   },
   "outputs": [],
   "source": [
    "x = tf.placeholder(tf.float32, (None, 32, 32, 1))\n",
    "y = tf.placeholder(tf.int32, (None))\n",
    "rate = tf.placeholder(tf.float32)\n",
    "one_hot_y = tf.one_hot(y, 43)"
   ]
  },
  {
   "cell_type": "markdown",
   "metadata": {},
   "source": [
    "### Train, Validate and Test the Model"
   ]
  },
  {
   "cell_type": "markdown",
   "metadata": {},
   "source": [
    "A validation set can be used to assess how well the model is performing. A low accuracy on the training and validation\n",
    "sets imply underfitting. A high accuracy on the training set but low accuracy on the validation set implies overfitting."
   ]
  },
  {
   "cell_type": "code",
   "execution_count": 16,
   "metadata": {
    "collapsed": true
   },
   "outputs": [],
   "source": [
    "### Train your model here.\n",
    "### Calculate and report the accuracy on the training and validation set.\n",
    "### Once a final model architecture is selected, \n",
    "### the accuracy on the test set should be calculated and reported as well.\n",
    "### Feel free to use as many code cells as needed."
   ]
  },
  {
   "cell_type": "markdown",
   "metadata": {},
   "source": [
    "### HMA: Define Model - Training Pipeline"
   ]
  },
  {
   "cell_type": "code",
   "execution_count": 17,
   "metadata": {
    "collapsed": true
   },
   "outputs": [],
   "source": [
    "logits = LeNet(x)\n",
    "cross_entropy = tf.nn.softmax_cross_entropy_with_logits(labels=one_hot_y, logits=logits)\n",
    "loss_operation = tf.reduce_mean(cross_entropy)\n",
    "optimizer = tf.train.AdamOptimizer(learning_rate = rate)\n",
    "training_operation = optimizer.minimize(loss_operation)"
   ]
  },
  {
   "cell_type": "markdown",
   "metadata": {},
   "source": [
    "### HMA: Define Model - Model Evaluation"
   ]
  },
  {
   "cell_type": "code",
   "execution_count": 18,
   "metadata": {
    "collapsed": false
   },
   "outputs": [],
   "source": [
    "correct_prediction = tf.equal(tf.argmax(logits, 1), tf.argmax(one_hot_y, 1))\n",
    "accuracy_operation = tf.reduce_mean(tf.cast(correct_prediction, tf.float32))\n",
    "saver = tf.train.Saver()\n",
    "\n",
    "def evaluate(X_data, y_data, hp_batchSize):\n",
    "    num_examples = len(X_data)\n",
    "    total_accuracy = 0\n",
    "    sess = tf.get_default_session()\n",
    "    for offset in range(0, num_examples, hp_batchSize):\n",
    "        batch_x, batch_y = X_data[offset:offset+hp_batchSize], y_data[offset:offset+hp_batchSize]\n",
    "        accuracy = sess.run(accuracy_operation, feed_dict={x: batch_x, y: batch_y})\n",
    "        total_accuracy += (accuracy * len(batch_x))\n",
    "    return total_accuracy / num_examples"
   ]
  },
  {
   "cell_type": "markdown",
   "metadata": {},
   "source": [
    "### HMA: Model - Train"
   ]
  },
  {
   "cell_type": "code",
   "execution_count": 19,
   "metadata": {
    "collapsed": true
   },
   "outputs": [],
   "source": [
    "def printSummary(validation, test):\n",
    "    fig, (ax0, ax1) = plt.subplots(1, 2, sharey=True)\n",
    "\n",
    "    ax0.plot(list(validation.keys()), list(validation.values()))\n",
    "    ax0.set_title('Validation accuracy')\n",
    "    \n",
    "    ax1.plot(list(test.keys()), list(test.values()))\n",
    "    ax1.set_title('Test accuracy')\n",
    "    plt.ylim([0.7, 1])\n",
    "    plt.show()    "
   ]
  },
  {
   "cell_type": "code",
   "execution_count": 25,
   "metadata": {
    "collapsed": false
   },
   "outputs": [],
   "source": [
    "from sklearn.utils import shuffle\n",
    "import time\n",
    "init_rate = 0.001\n",
    "\n",
    "def trainingSession(hp_epochs, hp_batchSize):\n",
    "    start_time = time.time()\n",
    "    with tf.Session() as sess:\n",
    "        global X_train, y_train\n",
    "        sess.run(tf.global_variables_initializer())\n",
    "        num_examples = len(X_train)\n",
    "        validation_summary = {}\n",
    "        test_summary = {}\n",
    "        current_rate = init_rate\n",
    "\n",
    "        for epoch in range(hp_epochs):\n",
    "            X_train, y_train = shuffle(X_train, y_train)\n",
    "            for offset in range(0, num_examples, hp_batchSize):\n",
    "                end = offset + hp_batchSize\n",
    "                batch_x, batch_y = X_train[offset:end], y_train[offset:end]\n",
    "                if epoch == 75:\n",
    "                    current_rate = 0.0001\n",
    "                sess.run(training_operation, feed_dict={x: batch_x, y: batch_y, rate: current_rate})\n",
    "\n",
    "            validation_accuracy = evaluate(X_valid, y_valid, hp_batchSize)\n",
    "            validation_summary[epoch] = validation_accuracy\n",
    "            \n",
    "            test_accuracy = evaluate(X_test, y_test, hp_batchSize)\n",
    "            test_summary[epoch] = test_accuracy\n",
    "            #print(\"EPOCH {} ...\".format(epoch+1))\n",
    "            #print(\"Validation Accuracy = {:.3f}\".format(validation_accuracy))\n",
    "            #print(\"Test Accuracy = {:.3f}\".format(test_accuracy))\n",
    "            #print()\n",
    "        print(\"Training time: %s seconds \" % (time.time() - start_time))\n",
    "        print(\"Validation Accuracy = {:.3f}\".format(validation_accuracy))\n",
    "        print(\"Test Accuracy = {:.3f}\".format(test_accuracy))\n",
    "        printSummary(validation_summary, test_summary)\n",
    "        saver.save(sess, './lenet')\n",
    "        #print(\"Model saved\")"
   ]
  },
  {
   "cell_type": "code",
   "execution_count": 23,
   "metadata": {
    "collapsed": false
   },
   "outputs": [
    {
     "name": "stdout",
     "output_type": "stream",
     "text": [
      "Training time: 142.83695197105408 seconds \n",
      "Validation Accuracy = 0.913\n",
      "Test Accuracy = 0.901\n"
     ]
    },
    {
     "data": {
      "image/png": "[encoded data removed]",
      "text/plain": [
       "<matplotlib.figure.Figure at 0x7f57de562908>"
      ]
     },
     "metadata": {},
     "output_type": "display_data"
    }
   ],
   "source": [
    "trainingSession(hp_epochs = 10, hp_batchSize = 64)"
   ]
  },
  {
   "cell_type": "code",
   "execution_count": 24,
   "metadata": {
    "collapsed": false
   },
   "outputs": [
    {
     "name": "stdout",
     "output_type": "stream",
     "text": [
      "Training time: 285.1618342399597 seconds \n",
      "Validation Accuracy = 0.927\n",
      "Test Accuracy = 0.913\n"
     ]
    },
    {
     "data": {
      "image/png": "[encoded data removed]",
      "text/plain": [
       "<matplotlib.figure.Figure at 0x7f57903a9438>"
      ]
     },
     "metadata": {},
     "output_type": "display_data"
    }
   ],
   "source": [
    "trainingSession(hp_epochs = 20, hp_batchSize = 64)"
   ]
  },
  {
   "cell_type": "code",
   "execution_count": 25,
   "metadata": {
    "collapsed": false
   },
   "outputs": [
    {
     "name": "stdout",
     "output_type": "stream",
     "text": [
      "Training time: 422.9688642024994 seconds \n",
      "Validation Accuracy = 0.927\n",
      "Test Accuracy = 0.917\n"
     ]
    },
    {
     "data": {
      "image/png": "[encoded data removed]",
      "text/plain": [
       "<matplotlib.figure.Figure at 0x7f5790446710>"
      ]
     },
     "metadata": {},
     "output_type": "display_data"
    }
   ],
   "source": [
    "trainingSession(hp_epochs = 30, hp_batchSize = 64)"
   ]
  },
  {
   "cell_type": "code",
   "execution_count": 26,
   "metadata": {
    "collapsed": false
   },
   "outputs": [
    {
     "name": "stdout",
     "output_type": "stream",
     "text": [
      "Training time: 122.73830437660217 seconds \n",
      "Validation Accuracy = 0.891\n",
      "Test Accuracy = 0.886\n"
     ]
    },
    {
     "data": {
      "image/png": "[encoded data removed]",
      "text/plain": [
       "<matplotlib.figure.Figure at 0x7f579c4b9f28>"
      ]
     },
     "metadata": {},
     "output_type": "display_data"
    }
   ],
   "source": [
    "trainingSession(hp_epochs = 10, hp_batchSize = 256)"
   ]
  },
  {
   "cell_type": "code",
   "execution_count": 27,
   "metadata": {
    "collapsed": false
   },
   "outputs": [
    {
     "name": "stdout",
     "output_type": "stream",
     "text": [
      "Training time: 395.29146432876587 seconds \n",
      "Validation Accuracy = 0.916\n",
      "Test Accuracy = 0.916\n"
     ]
    },
    {
     "data": {
      "image/png": "[encoded data removed]",
      "text/plain": [
       "<matplotlib.figure.Figure at 0x7f57e184e588>"
      ]
     },
     "metadata": {},
     "output_type": "display_data"
    }
   ],
   "source": [
    "trainingSession(hp_epochs = 30, hp_batchSize = 128)"
   ]
  },
  {
   "cell_type": "code",
   "execution_count": 28,
   "metadata": {
    "collapsed": false
   },
   "outputs": [
    {
     "name": "stdout",
     "output_type": "stream",
     "text": [
      "Training time: 792.1646664142609 seconds \n",
      "Validation Accuracy = 0.929\n",
      "Test Accuracy = 0.918\n"
     ]
    },
    {
     "data": {
      "image/png": "[encoded data removed]",
      "text/plain": [
       "<matplotlib.figure.Figure at 0x7f5790341438>"
      ]
     },
     "metadata": {},
     "output_type": "display_data"
    }
   ],
   "source": [
    "trainingSession(hp_epochs = 60, hp_batchSize = 128)"
   ]
  },
  {
   "cell_type": "code",
   "execution_count": 36,
   "metadata": {
    "collapsed": false
   },
   "outputs": [
    {
     "name": "stdout",
     "output_type": "stream",
     "text": [
      "Training time: 792.4273040294647 seconds \n",
      "Validation Accuracy = 0.915\n",
      "Test Accuracy = 0.906\n"
     ]
    },
    {
     "data": {
      "image/png": "[encoded data removed]",
      "text/plain": [
       "<matplotlib.figure.Figure at 0x7f5790256390>"
      ]
     },
     "metadata": {},
     "output_type": "display_data"
    }
   ],
   "source": [
    "# Epochs [01 - 10]: learning rate = 0.001\n",
    "# Epochs [11 - 60]: learning rate = 0.0001\n",
    "trainingSession(hp_epochs = 60, hp_batchSize = 128)"
   ]
  },
  {
   "cell_type": "code",
   "execution_count": 40,
   "metadata": {
    "collapsed": false
   },
   "outputs": [
    {
     "name": "stdout",
     "output_type": "stream",
     "text": [
      "Training time: 1340.658573627472 seconds \n",
      "Validation Accuracy = 0.944\n",
      "Test Accuracy = 0.926\n"
     ]
    },
    {
     "data": {
      "image/png": "[encoded data removed]",
      "text/plain": [
       "<matplotlib.figure.Figure at 0x7f57903d7940>"
      ]
     },
     "metadata": {},
     "output_type": "display_data"
    }
   ],
   "source": [
    "trainingSession(hp_epochs = 100, hp_batchSize = 128)"
   ]
  },
  {
   "cell_type": "code",
   "execution_count": 26,
   "metadata": {
    "collapsed": false
   },
   "outputs": [
    {
     "name": "stdout",
     "output_type": "stream",
     "text": [
      "Training time: 3240.321761608124 seconds \n",
      "Validation Accuracy = 0.933\n",
      "Test Accuracy = 0.927\n"
     ]
    },
    {
     "data": {
      "image/png": "[encoded data removed]",
      "text/plain": [
       "<matplotlib.figure.Figure at 0x7fe23a435b70>"
      ]
     },
     "metadata": {},
     "output_type": "display_data"
    }
   ],
   "source": [
    "# Epochs [001 - 075]: learning rate = 0.001\n",
    "# Epochs [076 - 200]: learning rate = 0.0001\n",
    "trainingSession(hp_epochs = 200, hp_batchSize = 128)"
   ]
  },
  {
   "cell_type": "markdown",
   "metadata": {},
   "source": [
    "### Rubric: Design and Test a Model Architecture\n",
    " - **Criteria**: Model Training \n",
    " - **Acceptance criteria**: The submission describes how the model was trained by discussing what optimizer was used, batch size, number of epochs and values for hyperparameters.\n",
    " - **Output**: **PASS**\n",
    "\n",
    "\n",
    " - **Criteria**: Solution Approach \n",
    " - **Acceptance criteria**: The submission describes the approach to finding a solution. Accuracy on the validation set is 0.93 or greater.\n",
    " - **Output**: **PASS**\n",
    "\n",
    "> **HMA**: The model used the Adam optimizer which already proved a good choice when achieving a reasonable accuracy for a low number of epochs (10). The selection and tune of hyperparameter was done then empiracally, as shown in the sequence of tests and outputs plots above. The last test values for epochs were 200 and batch of 128 with learning rate of 0.001 and 0.0001 after 75 iterations. \n",
    "\n",
    "> The final values of accuracy for the test and validation sets were of ~0.94 and ~0.93."
   ]
  },
  {
   "cell_type": "markdown",
   "metadata": {},
   "source": [
    "---\n",
    "\n",
    "## Step 3: Test a Model on New Images\n",
    "\n",
    "To give yourself more insight into how your model is working, download at least five pictures of German traffic signs from the web and use your model to predict the traffic sign type.\n",
    "\n",
    "You may find `signnames.csv` useful as it contains mappings from the class id (integer) to the actual sign name."
   ]
  },
  {
   "cell_type": "markdown",
   "metadata": {},
   "source": [
    "### Load and Output the Images"
   ]
  },
  {
   "cell_type": "code",
   "execution_count": null,
   "metadata": {
    "collapsed": true
   },
   "outputs": [],
   "source": [
    "### Load the images and plot them here.\n",
    "### Feel free to use as many code cells as needed."
   ]
  },
  {
   "cell_type": "markdown",
   "metadata": {},
   "source": [
    "### HMA: Extra test set\n",
    "Five new traffic sign images were extracted from the site http://bicyclegermany.com/german_bicycle_laws.html\n",
    "\n",
    "The sequence below prepares the inputs (X_testExtra) and labels (y_testExtra)"
   ]
  },
  {
   "cell_type": "code",
   "execution_count": 50,
   "metadata": {
    "collapsed": false
   },
   "outputs": [
    {
     "name": "stdout",
     "output_type": "stream",
     "text": [
      "14.png\n",
      "17.png\n",
      "18.png\n",
      "11.png\n",
      "12.png\n"
     ]
    }
   ],
   "source": [
    "import cv2\n",
    "import os, os.path\n",
    "import matplotlib.pyplot as plt\n",
    "\n",
    "%matplotlib inline\n",
    "\n",
    "X_testExtra = []\n",
    "y_testExtra = []\n",
    "\n",
    "path = \"./10-proj-extraImages\"\n",
    "for file in os.listdir(path):\n",
    "    print(file)\n",
    "    img = cv2.imread(os.path.join(path,file))\n",
    "    img = cv2.resize(img,(32,32))\n",
    "    #img = cv2.cvtColor(img, cv2.COLOR_RGB2BGR)\n",
    "    X_testExtra.append(img)\n",
    "    y_testExtra.append(int(os.path.splitext(file)[0]))"
   ]
  },
  {
   "cell_type": "code",
   "execution_count": 51,
   "metadata": {
    "collapsed": false
   },
   "outputs": [
    {
     "data": {
      "image/png": "[encoded data removed]",
      "text/plain": [
       "<matplotlib.figure.Figure at 0x7fe22f1312e8>"
      ]
     },
     "metadata": {},
     "output_type": "display_data"
    }
   ],
   "source": [
    "# Plot the extracted and scaled images\n",
    "f, axarr = plt.subplots(1, len(X_testExtra))\n",
    "\n",
    "for index in range(len(X_testExtra)):    \n",
    "    axarr[index].axis('off')\n",
    "    axarr[index].set_title(y_testExtra[index])\n",
    "    axarr[index].imshow(X_testExtra[index])\n",
    "plt.show()"
   ]
  },
  {
   "cell_type": "markdown",
   "metadata": {},
   "source": [
    "### Rubric: Test a Model on New Images\n",
    " - **Criteria**: Acquiring New Images\n",
    " - **Acceptance criteria**: The submission includes five new German Traffic signs found on the web, and the images are visualized. Discussion is made as to particular qualities of the images or traffic signs in the images that are of interest, such as whether they would be difficult for the model to classify.\n",
    " - **Output**: **PASS**\n",
    "\n",
    "> **HMA**: The images are presented above with the respective class. Images 17, 11 and 12 are well presented and are likelly to have a good prediction score. Image 18 has a mixture with more than one sign and image 14 is closer than other stop signs on the training set. These last 2 images might present lower prediction scores."
   ]
  },
  {
   "cell_type": "markdown",
   "metadata": {},
   "source": [
    "### Predict the Sign Type for Each Image"
   ]
  },
  {
   "cell_type": "code",
   "execution_count": null,
   "metadata": {
    "collapsed": true
   },
   "outputs": [],
   "source": [
    "### Run the predictions here and use the model to output the prediction for each image.\n",
    "### Make sure to pre-process the images with the same pre-processing pipeline used earlier.\n",
    "### Feel free to use as many code cells as needed."
   ]
  },
  {
   "cell_type": "code",
   "execution_count": 52,
   "metadata": {
    "collapsed": false
   },
   "outputs": [],
   "source": [
    "X_testExtra = convert2gray(X_testExtra)\n",
    "X_testExtra = normalize(X_testExtra)"
   ]
  },
  {
   "cell_type": "code",
   "execution_count": 56,
   "metadata": {
    "collapsed": false
   },
   "outputs": [
    {
     "name": "stdout",
     "output_type": "stream",
     "text": [
      "Label:  14\n",
      "Prediction:  [26]\n",
      "\n",
      "Label:  17\n",
      "Prediction:  [17]\n",
      "\n",
      "Label:  18\n",
      "Prediction:  [9]\n",
      "\n",
      "Label:  11\n",
      "Prediction:  [11]\n",
      "\n",
      "Label:  12\n",
      "Prediction:  [12]\n",
      "\n"
     ]
    }
   ],
   "source": [
    "# HMA: Prediction for single element\n",
    "# tf.argmax(logits, 1)\n",
    "\n",
    "with tf.Session() as sess:\n",
    "    saver.restore(sess, tf.train.latest_checkpoint('.'))\n",
    "    for index in range(len(X_testExtra)):        \n",
    "        prediction = sess.run(tf.argmax(logits, 1), feed_dict={x: [X_testExtra[index]]})\n",
    "        print(\"Label: \", y_testExtra[index])\n",
    "        print(\"Prediction: \",prediction)\n",
    "        print()"
   ]
  },
  {
   "cell_type": "markdown",
   "metadata": {},
   "source": [
    "### Analyze Performance"
   ]
  },
  {
   "cell_type": "code",
   "execution_count": null,
   "metadata": {
    "collapsed": true
   },
   "outputs": [],
   "source": [
    "### Calculate the accuracy for these 5 new images. \n",
    "### For example, if the model predicted 1 out of 5 signs correctly, it's 20% accurate on these new images."
   ]
  },
  {
   "cell_type": "code",
   "execution_count": 55,
   "metadata": {
    "collapsed": false
   },
   "outputs": [
    {
     "name": "stdout",
     "output_type": "stream",
     "text": [
      "Test Accuracy Extra Images = 0.600\n"
     ]
    }
   ],
   "source": [
    "with tf.Session() as sess:\n",
    "    saver.restore(sess, tf.train.latest_checkpoint('.'))\n",
    "    test_accuracy = evaluate(X_testExtra, y_testExtra, 5)\n",
    "    print(\"Test Accuracy Extra Images = {:.3f}\".format(test_accuracy))"
   ]
  },
  {
   "cell_type": "markdown",
   "metadata": {},
   "source": [
    "### Rubric: Test a Model on New Images\n",
    " - **Criteria**: Performance on New Images\n",
    " - **Acceptance criteria**: The submission documents the performance of the model when tested on the captured images. The performance on the new images is compared to the accuracy results of the test set.\n",
    " - **Output**: **PASS**\n",
    " \n",
    "> **HMA**: As shown in the predictions above, the accuracy for the new images is only 60%, which is really poor compared to the accuracy measurement of 93%. There are a number of resons for this low accuracy, from the chosen new images to the number of training samples. These are presented in details in the Softmax output analysis below."
   ]
  },
  {
   "cell_type": "markdown",
   "metadata": {},
   "source": [
    "### Output Top 5 Softmax Probabilities For Each Image Found on the Web"
   ]
  },
  {
   "cell_type": "markdown",
   "metadata": {},
   "source": [
    "For each of the new images, print out the model's softmax probabilities to show the **certainty** of the model's predictions (limit the output to the top 5 probabilities for each image). [`tf.nn.top_k`](https://www.tensorflow.org/versions/r0.12/api_docs/python/nn.html#top_k) could prove helpful here. \n",
    "\n",
    "The example below demonstrates how tf.nn.top_k can be used to find the top k predictions for each image.\n",
    "\n",
    "`tf.nn.top_k` will return the values and indices (class ids) of the top k predictions. So if k=3, for each sign, it'll return the 3 largest probabilities (out of a possible 43) and the correspoding class ids.\n",
    "\n",
    "Take this numpy array as an example. The values in the array represent predictions. The array contains softmax probabilities for five candidate images with six possible classes. `tk.nn.top_k` is used to choose the three classes with the highest probability:\n",
    "\n",
    "```\n",
    "# (5, 6) array\n",
    "a = np.array([[ 0.24879643,  0.07032244,  0.12641572,  0.34763842,  0.07893497,\n",
    "         0.12789202],\n",
    "       [ 0.28086119,  0.27569815,  0.08594638,  0.0178669 ,  0.18063401,\n",
    "         0.15899337],\n",
    "       [ 0.26076848,  0.23664738,  0.08020603,  0.07001922,  0.1134371 ,\n",
    "         0.23892179],\n",
    "       [ 0.11943333,  0.29198961,  0.02605103,  0.26234032,  0.1351348 ,\n",
    "         0.16505091],\n",
    "       [ 0.09561176,  0.34396535,  0.0643941 ,  0.16240774,  0.24206137,\n",
    "         0.09155967]])\n",
    "```\n",
    "\n",
    "Running it through `sess.run(tf.nn.top_k(tf.constant(a), k=3))` produces:\n",
    "\n",
    "```\n",
    "TopKV2(values=array([[ 0.34763842,  0.24879643,  0.12789202],\n",
    "       [ 0.28086119,  0.27569815,  0.18063401],\n",
    "       [ 0.26076848,  0.23892179,  0.23664738],\n",
    "       [ 0.29198961,  0.26234032,  0.16505091],\n",
    "       [ 0.34396535,  0.24206137,  0.16240774]]), indices=array([[3, 0, 5],\n",
    "       [0, 1, 4],\n",
    "       [0, 5, 1],\n",
    "       [1, 3, 5],\n",
    "       [1, 4, 3]], dtype=int32))\n",
    "```\n",
    "\n",
    "Looking just at the first row we get `[ 0.34763842,  0.24879643,  0.12789202]`, you can confirm these are the 3 largest probabilities in `a`. You'll also notice `[3, 0, 5]` are the corresponding indices."
   ]
  },
  {
   "cell_type": "code",
   "execution_count": null,
   "metadata": {
    "collapsed": true
   },
   "outputs": [],
   "source": [
    "### Print out the top five softmax probabilities for the predictions on the German traffic sign images found on the web. \n",
    "### Feel free to use as many code cells as needed."
   ]
  },
  {
   "cell_type": "code",
   "execution_count": 57,
   "metadata": {
    "collapsed": false
   },
   "outputs": [
    {
     "name": "stdout",
     "output_type": "stream",
     "text": [
      "Label:  14\n",
      "SoftMax:  TopKV2(values=array([[ 0.84213787,  0.15261145,  0.00446874]], dtype=float32), indices=array([[26, 14, 38]], dtype=int32))\n",
      "\n",
      "Label:  17\n",
      "SoftMax:  TopKV2(values=array([[  1.00000000e+00,   7.28675201e-44,   0.00000000e+00]], dtype=float32), indices=array([[17, 40,  0]], dtype=int32))\n",
      "\n",
      "Label:  18\n",
      "SoftMax:  TopKV2(values=array([[  1.00000000e+00,   1.03344949e-29,   1.24452834e-32]], dtype=float32), indices=array([[ 9, 17, 41]], dtype=int32))\n",
      "\n",
      "Label:  11\n",
      "SoftMax:  TopKV2(values=array([[ 1.,  0.,  0.]], dtype=float32), indices=array([[11,  0,  1]], dtype=int32))\n",
      "\n",
      "Label:  12\n",
      "SoftMax:  TopKV2(values=array([[  1.00000000e+00,   8.89914568e-22,   9.58291207e-33]], dtype=float32), indices=array([[12, 40, 32]], dtype=int32))\n",
      "\n"
     ]
    }
   ],
   "source": [
    "# HMA: Top 3 Softmax\n",
    "# tf.nn.top_k(tf.nn.softmax(logits), k=3)\n",
    "\n",
    "with tf.Session() as sess:\n",
    "    saver.restore(sess, tf.train.latest_checkpoint('.'))\n",
    "    for index in range(len(X_testExtra)):        \n",
    "        smax = sess.run(tf.nn.top_k(tf.nn.softmax(logits), k=3), feed_dict={x: [X_testExtra[index]]})\n",
    "        print(\"Label: \", y_testExtra[index])\n",
    "        print(\"SoftMax: \",smax)\n",
    "        print()"
   ]
  },
  {
   "cell_type": "markdown",
   "metadata": {},
   "source": [
    "### Rubric: Test a Model on New Images\n",
    " - **Criteria**: Model Certainty - Softmax Probabilities\n",
    " - **Acceptance criteria**: The top five softmax probabilities of the predictions on the captured images are outputted. The submission discusses how certain or uncertain the model is of its predictions.\n",
    " - **Output**: **PASS**\n",
    "\n",
    "> **HMA**: It is really interesting to see the Softmax results, in special for the wrong predictions!\n",
    "- For the correct predictions, the probability for the top softmax class is almost 100% and quite close to 0% for the other possible classes. It means that the model is quite certain of these predictions.\n",
    "- For the missed predictions, case by case:\n",
    "    - Label 14, Stop sign:\n",
    "        - Test image: the test image is not optimal, during crop, the sign borders were partially cutted. The image is too close to the sign so its shape is not quite noticeable. Probably one of the reasons for the missclassification. \n",
    "        - Training: as observed at the data exploratory phase, the class 14 is one of the classe with \"few\" examples, around 700 training images. With a small number of training images for this class, the net prediction does not generalize suffently for a closer image, such as this test image. Hence the importance of training samples or data augmentation.\n",
    "        - Softmax: Furthermore, from the softmax output, the first probability is of 84% for the wrong class and 15% probaility for the correct class. The model identified correctly nevertheless some of the sign features.\n",
    "    - Label 18, General caution sign:\n",
    "        - Test image: To start, the test image contains 2 signs. The target sign is not centered and is cropped on the top. Very likely it does not reasemble the images from the training image set.\n",
    "        - Training: This class has a reasonable number of training examples, around 1000, but still not enough to identify this sign associated with other signs.\n",
    "        - Softmax: Quite surprisingly the model outputs a high probability for the wrong class. It does not present even a slight probability for the correct class. Possible \"solution\", more train data for this sign. (Well, isn't that always the solution?)"
   ]
  },
  {
   "cell_type": "markdown",
   "metadata": {},
   "source": [
    "### Project Writeup\n",
    "\n",
    "Once you have completed the code implementation, document your results in a project writeup using this [template](https://github.com/udacity/CarND-Traffic-Sign-Classifier-Project/blob/master/writeup_template.md) as a guide. The writeup can be in a markdown or pdf file. "
   ]
  },
  {
   "cell_type": "markdown",
   "metadata": {},
   "source": [
    "> **Note**: Once you have completed all of the code implementations and successfully answered each question above, you may finalize your work by exporting the iPython Notebook as an HTML document. You can do this by using the menu above and navigating to  \\n\",\n",
    "    \"**File -> Download as -> HTML (.html)**. Include the finished document along with this notebook as your submission."
   ]
  },
  {
   "cell_type": "markdown",
   "metadata": {},
   "source": [
    "---\n",
    "\n",
    "## Step 4 (Optional): Visualize the Neural Network's State with Test Images\n",
    "\n",
    " This Section is not required to complete but acts as an additional excersise for understaning the output of a neural network's weights. While neural networks can be a great learning device they are often referred to as a black box. We can understand what the weights of a neural network look like better by plotting their feature maps. After successfully training your neural network you can see what it's feature maps look like by plotting the output of the network's weight layers in response to a test stimuli image. From these plotted feature maps, it's possible to see what characteristics of an image the network finds interesting. For a sign, maybe the inner network feature maps react with high activation to the sign's boundary outline or to the contrast in the sign's painted symbol.\n",
    "\n",
    " Provided for you below is the function code that allows you to get the visualization output of any tensorflow weight layer you want. The inputs to the function should be a stimuli image, one used during training or a new one you provided, and then the tensorflow variable name that represents the layer's state during the training process, for instance if you wanted to see what the [LeNet lab's](https://classroom.udacity.com/nanodegrees/nd013/parts/fbf77062-5703-404e-b60c-95b78b2f3f9e/modules/6df7ae49-c61c-4bb2-a23e-6527e69209ec/lessons/601ae704-1035-4287-8b11-e2c2716217ad/concepts/d4aca031-508f-4e0b-b493-e7b706120f81) feature maps looked like for it's second convolutional layer you could enter conv2 as the tf_activation variable.\n",
    "\n",
    "For an example of what feature map outputs look like, check out NVIDIA's results in their paper [End-to-End Deep Learning for Self-Driving Cars](https://devblogs.nvidia.com/parallelforall/deep-learning-self-driving-cars/) in the section Visualization of internal CNN State. NVIDIA was able to show that their network's inner weights had high activations to road boundary lines by comparing feature maps from an image with a clear path to one without. Try experimenting with a similar test to show that your trained network's weights are looking for interesting features, whether it's looking at differences in feature maps from images with or without a sign, or even what feature maps look like in a trained network vs a completely untrained one on the same sign image.\n",
    "\n",
    "<figure>\n",
    " <img src=\"visualize_cnn.png\" width=\"380\" alt=\"Combined Image\" />\n",
    " <figcaption>\n",
    " <p></p> \n",
    " <p style=\"text-align: center;\"> Your output should look something like this (above)</p> \n",
    " </figcaption>\n",
    "</figure>\n",
    " <p></p> \n"
   ]
  },
  {
   "cell_type": "code",
   "execution_count": null,
   "metadata": {
    "collapsed": true
   },
   "outputs": [],
   "source": [
    "### Visualize your network's feature maps here.\n",
    "### Feel free to use as many code cells as needed.\n",
    "\n",
    "# image_input: the test image being fed into the network to produce the feature maps\n",
    "# tf_activation: should be a tf variable name used during your training procedure that represents the calculated state of a specific weight layer\n",
    "# activation_min/max: can be used to view the activation contrast in more detail, by default matplot sets min and max to the actual min and max values of the output\n",
    "# plt_num: used to plot out multiple different weight feature map sets on the same block, just extend the plt number for each new feature map entry\n",
    "\n",
    "def outputFeatureMap(image_input, tf_activation, activation_min=-1, activation_max=-1 ,plt_num=1):\n",
    "    # Here make sure to preprocess your image_input in a way your network expects\n",
    "    # with size, normalization, ect if needed\n",
    "    # image_input =\n",
    "    # Note: x should be the same name as your network's tensorflow data placeholder variable\n",
    "    # If you get an error tf_activation is not defined it may be having trouble accessing the variable from inside a function\n",
    "    activation = tf_activation.eval(session=sess,feed_dict={x : image_input})\n",
    "    featuremaps = activation.shape[3]\n",
    "    plt.figure(plt_num, figsize=(15,15))\n",
    "    for featuremap in range(featuremaps):\n",
    "        plt.subplot(6,8, featuremap+1) # sets the number of feature maps to show on each row and column\n",
    "        plt.title('FeatureMap ' + str(featuremap)) # displays the feature map number\n",
    "        if activation_min != -1 & activation_max != -1:\n",
    "            plt.imshow(activation[0,:,:, featuremap], interpolation=\"nearest\", vmin =activation_min, vmax=activation_max, cmap=\"gray\")\n",
    "        elif activation_max != -1:\n",
    "            plt.imshow(activation[0,:,:, featuremap], interpolation=\"nearest\", vmax=activation_max, cmap=\"gray\")\n",
    "        elif activation_min !=-1:\n",
    "            plt.imshow(activation[0,:,:, featuremap], interpolation=\"nearest\", vmin=activation_min, cmap=\"gray\")\n",
    "        else:\n",
    "            plt.imshow(activation[0,:,:, featuremap], interpolation=\"nearest\", cmap=\"gray\")"
   ]
  }
 ],
 "metadata": {
  "anaconda-cloud": {},
  "kernelspec": {
   "display_name": "Python [default]",
   "language": "python",
   "name": "python3"
  },
  "language_info": {
   "codemirror_mode": {
    "name": "ipython",
    "version": 3
   },
   "file_extension": ".py",
   "mimetype": "text/x-python",
   "name": "python",
   "nbconvert_exporter": "python",
   "pygments_lexer": "ipython3",
   "version": "3.5.2"
  }
 },
 "nbformat": 4,
 "nbformat_minor": 1
}
