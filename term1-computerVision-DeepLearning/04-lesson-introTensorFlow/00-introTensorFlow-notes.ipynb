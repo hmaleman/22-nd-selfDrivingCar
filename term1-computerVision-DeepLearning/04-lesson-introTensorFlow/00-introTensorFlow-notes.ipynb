{
 "cells": [
  {
   "cell_type": "markdown",
   "metadata": {},
   "source": [
    "# Intro to TensorFlow\n",
    "- Course: Self Driving Car Nanodegree\n",
    "- Lesson 6: Intro to TensorFlow\n",
    "- Lesson 7: Deep Neural Netwoks\n"
   ]
  },
  {
   "cell_type": "markdown",
   "metadata": {},
   "source": [
    "### Validation and Stochastic Gradient Descent (SGD)\n",
    "- Inputs\n",
    " - Mean 0 \n",
    " - Equal variance\n",
    "- Weights\n",
    " - Mean 0\n",
    " - Equal variance\n",
    "\n",
    "This results in a good frame for finding gradient descent, but also for Stochastic Gradient Descent. SGD consists on calculating the Loss funcion on a RANDOM small output set, and the Derivate on the same small set. This will give a gist on the Global Gradient Descent direction, however at a much smaller calculation cost (smaller number calculation of loss and derivate compared to calculating to the complete set). The counter part is that smaller steps shall also be made, since the SGD direction is not as acurate as the global one, hence the increase on the iteration steps. "
   ]
  },
  {
   "cell_type": "markdown",
   "metadata": {
    "collapsed": true
   },
   "source": [
    "### Wide Hidden Layer vs More Layers\n",
    "The model can extract more characteristics from the input when using a Topology with more chained layers instead of one wide hidden layer:\n",
    "\n",
    "More chained layers (Deeper ... better?):\n",
    "\n",
    "    |Lin Op| -> |ReLU| -> |Lin Op| -> |ReLU| -> ... |Out|\n",
    "    \n",
    "Wide hidden layer:\n",
    "\n",
    "    |Lin Ops (wide, several)| -> |ReLU| -> |Out|"
   ]
  }
 ],
 "metadata": {
  "kernelspec": {
   "display_name": "Python 3",
   "language": "python",
   "name": "python3"
  },
  "language_info": {
   "codemirror_mode": {
    "name": "ipython",
    "version": 3
   },
   "file_extension": ".py",
   "mimetype": "text/x-python",
   "name": "python",
   "nbconvert_exporter": "python",
   "pygments_lexer": "ipython3",
   "version": "3.5.2"
  },
  "widgets": {
   "state": {},
   "version": "1.1.2"
  }
 },
 "nbformat": 4,
 "nbformat_minor": 2
}
