{
 "cells": [
  {
   "cell_type": "markdown",
   "metadata": {},
   "source": [
    "# Intro to TensorFlow\n",
    "- Course: Self Driving Car Nanodegree\n",
    "- Lesson 6: Intro to TensorFlow\n",
    "- Topic: Validation and Stochastic Gradient Descent (SGD)"
   ]
  },
  {
   "cell_type": "markdown",
   "metadata": {},
   "source": [
    "\n",
    "- Inputs\n",
    "-- Mean 0 \n",
    "-- Equal variance\n",
    "- Weights\n",
    "-- Mean 0\n",
    "-- Equal variance\n",
    "\n",
    "This results in a good frame for finding gradient descent, but also for Stochastic Gradient Descent. SGD consists on calculating the Loss funcion on a RANDOM small output set, and the Derivate on the same small set. This will give a gist on the Global Gradient Descent direction, however at a much smaller calculation cost (smaller number calculation of loss and derivate compared to calculating to the complete set). The counter part is that smaller steps shall also be made, since the SGD direction is not as acurate as the global one, hence the increase on the iteration steps. "
   ]
  },
  {
   "cell_type": "code",
   "execution_count": 2,
   "metadata": {
    "collapsed": false
   },
   "outputs": [
    {
     "name": "stdout",
     "output_type": "stream",
     "text": [
      "2200000\n"
     ]
    }
   ],
   "source": [
    "a=55000\n",
    "size=10\n",
    "bsize=4\n",
    "print(a*size*bsize)"
   ]
  },
  {
   "cell_type": "code",
   "execution_count": 3,
   "metadata": {
    "collapsed": false
   },
   "outputs": [
    {
     "name": "stdout",
     "output_type": "stream",
     "text": [
      "31360\n"
     ]
    }
   ],
   "source": [
    "print(784*10*4)"
   ]
  },
  {
   "cell_type": "code",
   "execution_count": null,
   "metadata": {
    "collapsed": true
   },
   "outputs": [],
   "source": []
  }
 ],
 "metadata": {
  "kernelspec": {
   "display_name": "Python 3",
   "language": "python",
   "name": "python3"
  },
  "language_info": {
   "codemirror_mode": {
    "name": "ipython",
    "version": 3
   },
   "file_extension": ".py",
   "mimetype": "text/x-python",
   "name": "python",
   "nbconvert_exporter": "python",
   "pygments_lexer": "ipython3",
   "version": "3.5.2"
  },
  "widgets": {
   "state": {},
   "version": "1.1.2"
  }
 },
 "nbformat": 4,
 "nbformat_minor": 2
}
