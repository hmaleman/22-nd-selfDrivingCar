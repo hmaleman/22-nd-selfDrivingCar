{
 "cells": [
  {
   "cell_type": "markdown",
   "metadata": {},
   "source": [
    "# Project: Vehicle Detection and Tracking\n",
    "The goal of this project is to implement a pipeline to detect and track vehicles at a video stream.\n",
    "\n",
    "**Credits**: Some functions used in this project were provided by Udacity at the related lesson from the SDC ND. Many of them were tunned and updated to fit this training pipeline.\n",
    "\n",
    "This notebook contains notes and resumes several other experiments done on the parameters used for the feature definition for the model training. "
   ]
  },
  {
   "cell_type": "markdown",
   "metadata": {},
   "source": [
    "### Rubric: Histogram of Oriented Gradients (HOG)\n",
    "- **Criteria**: Explain how (and identify where in your code) you extracted HOG features from the training images. Explain how you settled on your final choice of HOG parameters.\n",
    "- **Acceptance criteria**: Explanation given for methods used to extract HOG features, including which color space was chosen, which HOG parameters (orientations, pixels_per_cell, cells_per_block), and why.\n",
    "- **Output**: **PASS**\n",
    "\n",
    "> **HMA**: Regarding the color channel, the final choice for the project was YCrCb, which presented the best testing output when compared to other color spaces, both on single and all channels. The testing outputs for single channel and other color spaces varied from 85% on the worst cases to 99% for this feature selection.\n",
    "\n",
    "> The use of HOG features was analogous to the canny edge detection used on the first project. As presented at the extracted images below in this notebook, the HOG extacted features abstract color information and result in a shape which reasembles the original object but abstract color and saturation features from the the object. The chosen values of orientation (9), pix_per_cell (8), cell_per_block (2) associated to all channels from YCrcb, work as a sort of subsample (resize from the original image) and fit well the training image size of 64x64. "
   ]
  },
  {
   "cell_type": "markdown",
   "metadata": {},
   "source": [
    "### Rubric: Histogram of Oriented Gradients (HOG)\n",
    "- **Criteria**: Describe how (and identify where in your code) you trained a classifier using your selected HOG features (and color features if you used them).\n",
    "- **Acceptance criteria**: The HOG features extracted from the training data have been used to train a classifier, could be SVM, Decision Tree or other. Features should be scaled to zero mean and unit variance before training the classifier.\n",
    "- **Output**: **PASS**\n",
    "\n",
    "> **HMA**: For this project a SVM classifier proved good in accuracy for vehicle detection (very few frames with no detection after false positive filter) associated to a regular speed (more than 2 frames per second). \n",
    "\n",
    "> A data preparation / normalization is perfomed just before the training, with is done at the Training pipeline by the function \"transform\" from StandardScaler."
   ]
  },
  {
   "cell_type": "code",
   "execution_count": 4,
   "metadata": {
    "collapsed": false
   },
   "outputs": [],
   "source": [
    "import matplotlib.pyplot as plt\n",
    "import matplotlib.image as mpimg\n",
    "import numpy as np\n",
    "import cv2\n",
    "from skimage.feature import hog\n",
    "%matplotlib inline\n",
    "\n",
    "import glob\n",
    "import time\n",
    "from sklearn.svm import LinearSVC\n",
    "from sklearn.preprocessing import StandardScaler\n",
    "from sklearn.model_selection import train_test_split"
   ]
  },
  {
   "cell_type": "code",
   "execution_count": 1,
   "metadata": {
    "collapsed": false
   },
   "outputs": [
    {
     "name": "stdout",
     "output_type": "stream",
     "text": [
      "Dataset ready.\n"
     ]
    }
   ],
   "source": [
    "# HMA: Data download \n",
    "# Check / Download / Unzip - Dataset\n",
    "\n",
    "import os\n",
    "path_DIR = './00-proj-datasetVehicle'\n",
    "path_ZIP = './00-proj-datasetVehicle.zip'\n",
    "\n",
    "if not(os.path.isdir(path_DIR)):\n",
    "    if not(os.path.exists(path_ZIP)):\n",
    "        # Download Dataset zipfile if DIR and ZIP file do not exist\n",
    "        import urllib.request\n",
    "        url = 'https://s3.amazonaws.com/udacity-sdc/Vehicle_Tracking/vehicles.zip'\n",
    "        print(\"Downloading Dataset...\")\n",
    "        urllib.request.urlretrieve(url, path_ZIP)\n",
    "    \n",
    "    # Unzip Dataset zipfile\n",
    "    if (os.path.exists(path_ZIP)):\n",
    "        print(\"Unzipping Dataset...\")\n",
    "        os.makedirs(path_DIR)\n",
    "        import zipfile\n",
    "        zip_ref = zipfile.ZipFile(path_ZIP, 'r')\n",
    "        zip_ref.extractall(path_DIR)\n",
    "        zip_ref.close()\n",
    "print(\"Dataset ready.\")"
   ]
  },
  {
   "cell_type": "code",
   "execution_count": 2,
   "metadata": {
    "collapsed": false
   },
   "outputs": [
    {
     "name": "stdout",
     "output_type": "stream",
     "text": [
      "Dataset ready.\n"
     ]
    }
   ],
   "source": [
    "# HMA: Data download \n",
    "# Check / Download / Unzip - Dataset\n",
    "\n",
    "import os\n",
    "path_DIR = './00-proj-datasetNonVehicle'\n",
    "path_ZIP = './00-proj-datasetNonVehicle.zip'\n",
    "\n",
    "if not(os.path.isdir(path_DIR)):\n",
    "    if not(os.path.exists(path_ZIP)):\n",
    "        # Download Dataset zipfile if DIR and ZIP file do not exist\n",
    "        import urllib.request\n",
    "        url = 'https://s3.amazonaws.com/udacity-sdc/Vehicle_Tracking/non-vehicles.zip'\n",
    "        print(\"Downloading Dataset...\")\n",
    "        urllib.request.urlretrieve(url, path_ZIP)\n",
    "    \n",
    "    # Unzip Dataset zipfile\n",
    "    if (os.path.exists(path_ZIP)):\n",
    "        print(\"Unzipping Dataset...\")\n",
    "        os.makedirs(path_DIR)\n",
    "        import zipfile\n",
    "        zip_ref = zipfile.ZipFile(path_ZIP, 'r')\n",
    "        zip_ref.extractall(path_DIR)\n",
    "        zip_ref.close()\n",
    "print(\"Dataset ready.\")"
   ]
  },
  {
   "cell_type": "code",
   "execution_count": 5,
   "metadata": {
    "collapsed": true
   },
   "outputs": [],
   "source": [
    "def pltSingle(img, title, plot=True, axis_grid='off'):\n",
    "    if plot == True:\n",
    "        f, ax = plt.subplots(1,1)\n",
    "        ax.imshow(img)\n",
    "        ax.set_title(title)\n",
    "        ax.axis(axis_grid)\n",
    "        plt.show()"
   ]
  },
  {
   "cell_type": "code",
   "execution_count": 17,
   "metadata": {
    "collapsed": true
   },
   "outputs": [],
   "source": [
    "def pltCompare(img1, title1, img2, title2, plot=True, axis_grid='off'):\n",
    "    if plot == True:\n",
    "        f, (ax1, ax2) = plt.subplots(1,2, figsize=(10,5))\n",
    "        ax1.imshow(img1)\n",
    "        ax1.set_title(title1)\n",
    "        ax1.axis(axis_grid)\n",
    "        ax2.imshow(img2)\n",
    "        ax2.set_title(title2)\n",
    "        ax2.axis(axis_grid)\n",
    "        plt.show()"
   ]
  },
  {
   "cell_type": "code",
   "execution_count": 7,
   "metadata": {
    "collapsed": true
   },
   "outputs": [],
   "source": [
    "# Define a function to compute binned color features  \n",
    "def bin_spatial(img, size=(32, 32)):\n",
    "    # Use cv2.resize().ravel() to create the feature vector\n",
    "    features = cv2.resize(img, size).ravel() \n",
    "    # Return the feature vector\n",
    "    return features"
   ]
  },
  {
   "cell_type": "code",
   "execution_count": 8,
   "metadata": {
    "collapsed": true
   },
   "outputs": [],
   "source": [
    "# Define a function to compute color histogram features \n",
    "# NEED TO CHANGE bins_range if reading .png files with mpimg!\n",
    "def color_hist(img, nbins=32):#, bins_range=(0, 256)):\n",
    "    # Compute the histogram of the color channels separately\n",
    "    channel1_hist = np.histogram(img[:,:,0], bins=nbins)#, range=bins_range)\n",
    "    channel2_hist = np.histogram(img[:,:,1], bins=nbins)#, range=bins_range)\n",
    "    channel3_hist = np.histogram(img[:,:,2], bins=nbins)#, range=bins_range)\n",
    "    # Concatenate the histograms into a single feature vector\n",
    "    hist_features = np.concatenate((channel1_hist[0], channel2_hist[0], channel3_hist[0]))\n",
    "    # Return the individual histograms, bin_centers and feature vector\n",
    "    return hist_features"
   ]
  },
  {
   "cell_type": "code",
   "execution_count": 9,
   "metadata": {
    "collapsed": true
   },
   "outputs": [],
   "source": [
    "# Define a function to return HOG features and visualization\n",
    "def get_hog_features(img,\n",
    "                     orient, \n",
    "                     pix_per_cell, \n",
    "                     cell_per_block,\n",
    "                     vis=False, \n",
    "                     feature_vec=True):\n",
    "    # Call with two outputs if vis==True\n",
    "    if vis == True:\n",
    "        features, hog_image = hog(img, orientations=orient, \n",
    "                                  pixels_per_cell=(pix_per_cell, pix_per_cell),\n",
    "                                  cells_per_block=(cell_per_block, cell_per_block), \n",
    "                                  transform_sqrt=True, \n",
    "                                  visualise=vis, feature_vector=feature_vec)\n",
    "        return features, hog_image\n",
    "    # Otherwise call with one output\n",
    "    else:      \n",
    "        features = hog(img, orientations=orient, \n",
    "                       pixels_per_cell=(pix_per_cell, pix_per_cell),\n",
    "                       cells_per_block=(cell_per_block, cell_per_block), \n",
    "                       transform_sqrt=True, \n",
    "                       visualise=vis, feature_vector=feature_vec)\n",
    "        return features"
   ]
  },
  {
   "cell_type": "code",
   "execution_count": 14,
   "metadata": {
    "collapsed": true
   },
   "outputs": [],
   "source": [
    "# Define a function to extract features from a single image window\n",
    "# This function is very similar to extract_features()\n",
    "# just for a single image rather than list of images\n",
    "def single_img_features(img, \n",
    "                        color_space='RGB', \n",
    "                        spatial_size=(32, 32),\n",
    "                        hist_bins=32, \n",
    "                        orient=9, \n",
    "                        pix_per_cell=8, \n",
    "                        cell_per_block=2, \n",
    "                        hog_channel=0,\n",
    "                        spatial_feat=True, \n",
    "                        hist_feat=True, \n",
    "                        hog_feat=True,\n",
    "                        vis=False):    \n",
    "        #1) Define an empty list to receive features\n",
    "    img_features = []\n",
    "    #2) Apply color conversion if other than 'RGB'\n",
    "    if color_space != 'RGB':\n",
    "        if color_space == 'HSV':\n",
    "            feature_image = cv2.cvtColor(img, cv2.COLOR_RGB2HSV)\n",
    "        elif color_space == 'LUV':\n",
    "            feature_image = cv2.cvtColor(img, cv2.COLOR_RGB2LUV)\n",
    "        elif color_space == 'HLS':\n",
    "            feature_image = cv2.cvtColor(img, cv2.COLOR_RGB2HLS)\n",
    "        elif color_space == 'YUV':\n",
    "            feature_image = cv2.cvtColor(img, cv2.COLOR_RGB2YUV)\n",
    "        elif color_space == 'YCrCb':\n",
    "            feature_image = cv2.cvtColor(img, cv2.COLOR_RGB2YCrCb)\n",
    "            #print('converting to YCrCb')\n",
    "    else: feature_image = np.copy(img)      \n",
    "    #3) Compute spatial features if flag is set\n",
    "    if spatial_feat == True:\n",
    "        spatial_features = bin_spatial(feature_image, size=spatial_size)\n",
    "        #4) Append features to list\n",
    "        img_features.append(spatial_features)\n",
    "    #5) Compute histogram features if flag is set\n",
    "    if hist_feat == True:\n",
    "        hist_features = color_hist(feature_image, nbins=hist_bins)\n",
    "        #6) Append features to list\n",
    "        img_features.append(hist_features)\n",
    "    #7) Compute HOG features if flag is set\n",
    "    if hog_feat == True:\n",
    "        if hog_channel == 'ALL':\n",
    "            hog_features = []\n",
    "            for channel in range(feature_image.shape[2]):\n",
    "                hog_features.append(get_hog_features(feature_image[:,:,channel], \n",
    "                                    orient, pix_per_cell, cell_per_block, \n",
    "                                    vis=False, feature_vec=True))      \n",
    "            hog_features = np.concatenate(hog_features)\n",
    "        else:\n",
    "            hog_features = get_hog_features(feature_image[:,:,hog_channel], orient, \n",
    "                            pix_per_cell, cell_per_block, vis=False, feature_vec=True)\n",
    "        if vis == True:\n",
    "            _, hog_image = get_hog_features(feature_image[:,:,0], orient, \n",
    "                            pix_per_cell, cell_per_block, vis=True, feature_vec=True)\n",
    "                \n",
    "        #8) Append features to list\n",
    "        img_features.append(hog_features)\n",
    "\n",
    "    #9) Return concatenated array of features\n",
    "    if vis == True:\n",
    "        return np.concatenate(img_features), hog_image\n",
    "    else:\n",
    "        return np.concatenate(img_features)"
   ]
  },
  {
   "cell_type": "markdown",
   "metadata": {},
   "source": [
    "## Parameters"
   ]
  },
  {
   "cell_type": "code",
   "execution_count": 12,
   "metadata": {
    "collapsed": true
   },
   "outputs": [],
   "source": [
    "color_space = 'YCrCb' # Can be RGB, HSV, LUV, HLS, YUV, YCrCb\n",
    "orient = 9  # HOG orientations\n",
    "pix_per_cell = 8 # HOG pixels per cell\n",
    "cell_per_block = 2 # HOG cells per block\n",
    "hog_channel = 'ALL' # Can be 0, 1, 2, or \"ALL\"\n",
    "spatial_size = (32, 32) # Spatial binning dimensions\n",
    "hist_bins = 32    # Number of histogram bins\n",
    "spatial_feat = True # Spatial features on or off\n",
    "hist_feat = True # Histogram features on or off\n",
    "hog_feat = True # HOG features on or off\n",
    "y_start_stop = [None, None] # Min and max in y to search in slide_window()"
   ]
  },
  {
   "cell_type": "markdown",
   "metadata": {},
   "source": [
    "## Pipeline Train Classifier "
   ]
  },
  {
   "cell_type": "code",
   "execution_count": 13,
   "metadata": {
    "collapsed": true
   },
   "outputs": [],
   "source": [
    "datasetNonVehicle_DIR = './00-proj-datasetNonVehicle'\n",
    "datasetVehicle_DIR = './00-proj-datasetVehicle'\n",
    "notcars = []\n",
    "cars = []\n",
    "for fname in glob.iglob(datasetNonVehicle_DIR + '/**/*.png', recursive=True):\n",
    "    notcars.append(fname)\n",
    "    \n",
    "for fname in glob.iglob(datasetVehicle_DIR + '/**/*.png', recursive=True):\n",
    "    cars.append(fname)"
   ]
  },
  {
   "cell_type": "code",
   "execution_count": 18,
   "metadata": {
    "collapsed": false
   },
   "outputs": [
    {
     "data": {
      "image/png": "[encoded data removed]",
      "text/plain": [
       "<matplotlib.figure.Figure at 0x7fbf676a1e80>"
      ]
     },
     "metadata": {},
     "output_type": "display_data"
    },
    {
     "data": {
      "image/png": "[encoded data removed]",
      "text/plain": [
       "<matplotlib.figure.Figure at 0x7fbf677a4898>"
      ]
     },
     "metadata": {},
     "output_type": "display_data"
    }
   ],
   "source": [
    "# Compare Original image and HOG output (single channel) for a car sample image\n",
    "img_sample = cv2.imread(cars[0])\n",
    "img_sample = cv2.cvtColor(img_sample, cv2.COLOR_BGR2RGB)\n",
    "_, img_sample_hog = single_img_features(img_sample, \n",
    "                                        color_space=color_space,\n",
    "                                        spatial_size=spatial_size,\n",
    "                                        hist_bins=hist_bins,\n",
    "                                        orient=orient, \n",
    "                                        pix_per_cell=pix_per_cell,\n",
    "                                        cell_per_block=cell_per_block,\n",
    "                                        hog_channel=hog_channel, \n",
    "                                        spatial_feat=spatial_feat,\n",
    "                                        hist_feat=hist_feat, \n",
    "                                        hog_feat=hog_feat,\n",
    "                                        vis=True)\n",
    "pltCompare(img_sample, 'Original image Car', img_sample_hog, 'HOG at channel 0 - {}'.format(color_space))\n",
    "\n",
    "# Compare Original image and HOG output (single channel) for a not car sample image\n",
    "img_sample = cv2.imread(notcars[0])\n",
    "img_sample = cv2.cvtColor(img_sample, cv2.COLOR_BGR2RGB)\n",
    "_, img_sample_hog = single_img_features(img_sample, \n",
    "                                        color_space=color_space,\n",
    "                                        spatial_size=spatial_size,\n",
    "                                        hist_bins=hist_bins,\n",
    "                                        orient=orient, \n",
    "                                        pix_per_cell=pix_per_cell,\n",
    "                                        cell_per_block=cell_per_block,\n",
    "                                        hog_channel=hog_channel, \n",
    "                                        spatial_feat=spatial_feat,\n",
    "                                        hist_feat=hist_feat, \n",
    "                                        hog_feat=hog_feat,\n",
    "                                        vis=True)\n",
    "pltCompare(img_sample, 'Original image Not Car', img_sample_hog, 'HOG at channel 0 - {}'.format(color_space))"
   ]
  },
  {
   "cell_type": "code",
   "execution_count": 19,
   "metadata": {
    "collapsed": false
   },
   "outputs": [
    {
     "name": "stdout",
     "output_type": "stream",
     "text": [
      "8792\n",
      "8968\n"
     ]
    }
   ],
   "source": [
    "car_features = []\n",
    "notcar_features = []\n",
    "\n",
    "for fname in cars:\n",
    "    img = cv2.imread(fname)\n",
    "    img = cv2.cvtColor(img, cv2.COLOR_BGR2RGB)\n",
    "    car_features.append(single_img_features(img, \n",
    "                                        color_space=color_space,\n",
    "                                        spatial_size=spatial_size,\n",
    "                                        hist_bins=hist_bins,\n",
    "                                        orient=orient, \n",
    "                                        pix_per_cell=pix_per_cell,\n",
    "                                        cell_per_block=cell_per_block,\n",
    "                                        hog_channel=hog_channel, \n",
    "                                        spatial_feat=spatial_feat,\n",
    "                                        hist_feat=hist_feat, \n",
    "                                        hog_feat=hog_feat,\n",
    "                                        vis=False))\n",
    "for fname in notcars:\n",
    "    img = cv2.imread(fname)\n",
    "    img = cv2.cvtColor(img, cv2.COLOR_BGR2RGB)\n",
    "    notcar_features.append(single_img_features(img, \n",
    "                                        color_space=color_space,\n",
    "                                        spatial_size=spatial_size,\n",
    "                                        hist_bins=hist_bins,\n",
    "                                        orient=orient, \n",
    "                                        pix_per_cell=pix_per_cell,\n",
    "                                        cell_per_block=cell_per_block,\n",
    "                                        hog_channel=hog_channel, \n",
    "                                        spatial_feat=spatial_feat,\n",
    "                                        hist_feat=hist_feat, \n",
    "                                        hog_feat=hog_feat,\n",
    "                                        vis=False))\n",
    "\n",
    "print(len(car_features))\n",
    "print(len(notcar_features))"
   ]
  },
  {
   "cell_type": "code",
   "execution_count": 35,
   "metadata": {
    "collapsed": false
   },
   "outputs": [
    {
     "name": "stdout",
     "output_type": "stream",
     "text": [
      "Using: 9 orientations 8 pixels per cell and 2 cells per block\n",
      "Feature vector length: 8460\n",
      "4.66 Seconds to train SVC...\n",
      "Test Accuracy of SVC =  0.9932\n"
     ]
    }
   ],
   "source": [
    "X = np.vstack((car_features, notcar_features)).astype(np.float64)                        \n",
    "# Fit a per-column scaler\n",
    "X_scaler = StandardScaler().fit(X)\n",
    "# Apply the scaler to X\n",
    "scaled_X = X_scaler.transform(X)\n",
    "\n",
    "# Define the labels vector\n",
    "y = np.hstack((np.ones(len(car_features)), np.zeros(len(notcar_features))))\n",
    "\n",
    "\n",
    "# Split up data into randomized training and test sets\n",
    "rand_state = np.random.randint(0, 100)\n",
    "X_train, X_test, y_train, y_test = train_test_split(\n",
    "    scaled_X, y, test_size=0.3, random_state=rand_state)\n",
    "\n",
    "print('Using:',orient,'orientations',pix_per_cell,\n",
    "    'pixels per cell and', cell_per_block,'cells per block')\n",
    "print('Feature vector length:', len(X_train[0]))\n",
    "# Use a linear SVC \n",
    "svc = LinearSVC()\n",
    "# Check the training time for the SVC\n",
    "t=time.time()\n",
    "svc.fit(X_train, y_train)\n",
    "t2 = time.time()\n",
    "print(round(t2-t, 2), 'Seconds to train SVC...')\n",
    "# Check the score of the SVC\n",
    "print('Test Accuracy of SVC = ', round(svc.score(X_test, y_test), 4))\n",
    "# Check the prediction time for a single sample\n",
    "t=time.time()"
   ]
  },
  {
   "cell_type": "code",
   "execution_count": 36,
   "metadata": {
    "collapsed": true
   },
   "outputs": [],
   "source": [
    "import pickle\n",
    "\n",
    "svc_params_dict = {'svc':svc, \n",
    "                   'scaler':X_scaler,\n",
    "                   'color_space':color_space,\n",
    "                   'orient':orient, \n",
    "                   'pix_per_cell':pix_per_cell, \n",
    "                   'cell_per_block':cell_per_block,\n",
    "                   'hog_channel':hog_channel,\n",
    "                   'spatial_size':spatial_size, \n",
    "                   'hist_bins':hist_bins,\n",
    "                   'spatial_feat':spatial_feat,\n",
    "                   'hist_feat':hist_feat,\n",
    "                   'hog_feat':hog_feat}\n",
    "pickle.dump(svc_params_dict, open(\"20-output-classifier.p\", \"wb\" ) )"
   ]
  }
 ],
 "metadata": {
  "kernelspec": {
   "display_name": "Python 3",
   "language": "python",
   "name": "python3"
  },
  "language_info": {
   "codemirror_mode": {
    "name": "ipython",
    "version": 3
   },
   "file_extension": ".py",
   "mimetype": "text/x-python",
   "name": "python",
   "nbconvert_exporter": "python",
   "pygments_lexer": "ipython3",
   "version": "3.5.2"
  },
  "widgets": {
   "state": {},
   "version": "1.1.2"
  }
 },
 "nbformat": 4,
 "nbformat_minor": 2
}
